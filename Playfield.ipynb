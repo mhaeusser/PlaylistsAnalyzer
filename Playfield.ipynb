{
 "cells": [
  {
   "cell_type": "code",
   "execution_count": 2,
   "metadata": {
    "collapsed": true
   },
   "outputs": [],
   "source": [
    "line = '&#8211; Joe Higgs: I&#8217;m The Song That My Enemies Sing<br /> &#8211; Andy &amp; Joey: You&#8217;re Wondering Now<br /> &#8211; Tiefenrausch: Döner <img class=\"alignnone size-full wp-image-37\" src=\"http://ska.one/new.gif\"/><br /> &#8211; King Horror: Loch Ness Monster<br /> &#8211; The Upsetters: Man From MI5<br /> &#8211; Ill At Ease: Red Eyed<br />'\n"
   ]
  },
  {
   "cell_type": "code",
   "execution_count": 3,
   "metadata": {},
   "outputs": [
    {
     "data": {
      "text/plain": [
       "'&#8211; Joe Higgs: I&#8217;m The Song That My Enemies Sing<br /> &#8211; Andy &amp; Joey: You&#8217;re Wondering Now<br /> &#8211; Tiefenrausch: Döner <img class=\"alignnone size-full wp-image-37\" src=\"http://ska.one/new.gif\"/><br /> &#8211; King Horror: Loch Ness Monster<br /> &#8211; The Upsetters: Man From MI5<br /> &#8211; Ill At Ease: Red Eyed<br />'"
      ]
     },
     "execution_count": 3,
     "metadata": {},
     "output_type": "execute_result"
    }
   ],
   "source": [
    "line"
   ]
  },
  {
   "cell_type": "code",
   "execution_count": 4,
   "metadata": {
    "collapsed": true
   },
   "outputs": [],
   "source": [
    "rep = line.replace('<br />', '<br/>')"
   ]
  },
  {
   "cell_type": "code",
   "execution_count": 5,
   "metadata": {},
   "outputs": [
    {
     "data": {
      "text/plain": [
       "'&#8211; Joe Higgs: I&#8217;m The Song That My Enemies Sing<br/> &#8211; Andy &amp; Joey: You&#8217;re Wondering Now<br/> &#8211; Tiefenrausch: Döner <img class=\"alignnone size-full wp-image-37\" src=\"http://ska.one/new.gif\"/><br/> &#8211; King Horror: Loch Ness Monster<br/> &#8211; The Upsetters: Man From MI5<br/> &#8211; Ill At Ease: Red Eyed<br/>'"
      ]
     },
     "execution_count": 5,
     "metadata": {},
     "output_type": "execute_result"
    }
   ],
   "source": [
    "rep"
   ]
  },
  {
   "cell_type": "code",
   "execution_count": 15,
   "metadata": {
    "collapsed": true
   },
   "outputs": [],
   "source": [
    "def replace_all(text):\n",
    "    text = text.replace('<br />', '<br/>')\n",
    "    text = text.replace('&amp;', '&')\n",
    "    text = text.replace('&#8211;', '-')\n",
    "    text = text.replace('&#8216;', \"'\")\n",
    "    text = text.replace('&#8217;', \"'\")\n",
    "    text = text.replace(' <img class=\"alignnone size-full wp-image-37\" src=\"http://ska.one/new.gif\"/>', '<new/>')   \n",
    "    return text"
   ]
  },
  {
   "cell_type": "code",
   "execution_count": 16,
   "metadata": {
    "collapsed": true
   },
   "outputs": [],
   "source": [
    "repl = replace_all(rep)"
   ]
  },
  {
   "cell_type": "code",
   "execution_count": 17,
   "metadata": {},
   "outputs": [
    {
     "data": {
      "text/plain": [
       "'&#8211; Joe Higgs: I&#8217;m The Song That My Enemies Sing<br/> &#8211; Andy &amp; Joey: You&#8217;re Wondering Now<br/> &#8211; Tiefenrausch: Döner <img class=\"alignnone size-full wp-image-37\" src=\"http://ska.one/new.gif\"/><br/> &#8211; King Horror: Loch Ness Monster<br/> &#8211; The Upsetters: Man From MI5<br/> &#8211; Ill At Ease: Red Eyed<br/>'"
      ]
     },
     "execution_count": 17,
     "metadata": {},
     "output_type": "execute_result"
    }
   ],
   "source": [
    "rep"
   ]
  },
  {
   "cell_type": "code",
   "execution_count": 18,
   "metadata": {},
   "outputs": [
    {
     "data": {
      "text/plain": [
       "\"- Joe Higgs: I'm The Song That My Enemies Sing<br/> - Andy & Joey: You're Wondering Now<br/> - Tiefenrausch: Döner<new/><br/> - King Horror: Loch Ness Monster<br/> - The Upsetters: Man From MI5<br/> - Ill At Ease: Red Eyed<br/>\""
      ]
     },
     "execution_count": 18,
     "metadata": {},
     "output_type": "execute_result"
    }
   ],
   "source": [
    "repl"
   ]
  },
  {
   "cell_type": "code",
   "execution_count": 14,
   "metadata": {},
   "outputs": [
    {
     "data": {
      "text/plain": [
       "[\"- Joe Higgs: I'm The Song That My Enemies Sing\",\n",
       " \" - Andy & Joey: You're Wondering Now\",\n",
       " ' - Tiefenrausch: Döner <new/>',\n",
       " ' - King Horror: Loch Ness Monster',\n",
       " ' - The Upsetters: Man From MI5',\n",
       " ' - Ill At Ease: Red Eyed',\n",
       " '']"
      ]
     },
     "execution_count": 14,
     "metadata": {},
     "output_type": "execute_result"
    }
   ],
   "source": [
    "repl.split('<br/>')"
   ]
  },
  {
   "cell_type": "code",
   "execution_count": 19,
   "metadata": {
    "collapsed": true
   },
   "outputs": [],
   "source": [
    "from urllib.request import urlopen \n",
    "import re\n",
    "def readurl(url): \n",
    "    return urlopen(url).read().decode()"
   ]
  },
  {
   "cell_type": "code",
   "execution_count": 22,
   "metadata": {},
   "outputs": [
    {
     "data": {
      "text/plain": [
       "\"- Joe Higgs: I'm The Song That My Enemies Sing\""
      ]
     },
     "execution_count": 22,
     "metadata": {},
     "output_type": "execute_result"
    }
   ],
   "source": [
    "repl.split('<br/>')[0]"
   ]
  },
  {
   "cell_type": "code",
   "execution_count": 23,
   "metadata": {
    "collapsed": true
   },
   "outputs": [],
   "source": [
    "def parse_song_line(line):\n",
    "    # assumed to start with '- '\n",
    "    line = line[2:]\n",
    "    both = line.split(\": \")\n",
    "    artist = both[0]\n",
    "    title = both[1]\n",
    "    return artist, title\n"
   ]
  },
  {
   "cell_type": "code",
   "execution_count": 24,
   "metadata": {
    "collapsed": true
   },
   "outputs": [],
   "source": [
    "ret = parse_song_line(repl.split('<br/>')[0])"
   ]
  },
  {
   "cell_type": "code",
   "execution_count": 25,
   "metadata": {},
   "outputs": [
    {
     "data": {
      "text/plain": [
       "('Joe Higgs', \"I'm The Song That My Enemies Sing\")"
      ]
     },
     "execution_count": 25,
     "metadata": {},
     "output_type": "execute_result"
    }
   ],
   "source": [
    "ret"
   ]
  },
  {
   "cell_type": "code",
   "execution_count": null,
   "metadata": {
    "collapsed": true
   },
   "outputs": [],
   "source": []
  }
 ],
 "metadata": {
  "kernelspec": {
   "display_name": "Python 3",
   "language": "python",
   "name": "python3"
  },
  "language_info": {
   "codemirror_mode": {
    "name": "ipython",
    "version": 3
   },
   "file_extension": ".py",
   "mimetype": "text/x-python",
   "name": "python",
   "nbconvert_exporter": "python",
   "pygments_lexer": "ipython3",
   "version": "3.6.3"
  }
 },
 "nbformat": 4,
 "nbformat_minor": 2
}
