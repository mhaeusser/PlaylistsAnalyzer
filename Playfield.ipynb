{
 "cells": [
  {
   "cell_type": "code",
   "execution_count": 1,
   "metadata": {
    "collapsed": true
   },
   "outputs": [],
   "source": [
    "line = '&#8211; Joe Higgs: I&#8217;m The Song That My Enemies Sing<br /> &#8211; Andy &amp; Joey: You&#8217;re Wondering Now<br /> &#8211; Tiefenrausch: Döner <img class=\"alignnone size-full wp-image-37\" src=\"http://ska.one/new.gif\"/><br /> &#8211; King Horror: Loch Ness Monster<br /> &#8211; The Upsetters: Man From MI5<br /> &#8211; Ill At Ease: Red Eyed<br />'\n"
   ]
  },
  {
   "cell_type": "code",
   "execution_count": 2,
   "metadata": {
    "collapsed": false
   },
   "outputs": [
    {
     "data": {
      "text/plain": [
       "'&#8211; Joe Higgs: I&#8217;m The Song That My Enemies Sing<br /> &#8211; Andy &amp; Joey: You&#8217;re Wondering Now<br /> &#8211; Tiefenrausch: Döner <img class=\"alignnone size-full wp-image-37\" src=\"http://ska.one/new.gif\"/><br /> &#8211; King Horror: Loch Ness Monster<br /> &#8211; The Upsetters: Man From MI5<br /> &#8211; Ill At Ease: Red Eyed<br />'"
      ]
     },
     "execution_count": 2,
     "metadata": {},
     "output_type": "execute_result"
    }
   ],
   "source": [
    "line"
   ]
  },
  {
   "cell_type": "code",
   "execution_count": 3,
   "metadata": {
    "collapsed": true
   },
   "outputs": [],
   "source": [
    "rep = line.replace('<br />', '<br/>')"
   ]
  },
  {
   "cell_type": "code",
   "execution_count": 5,
   "metadata": {
    "collapsed": true
   },
   "outputs": [],
   "source": [
    "def replace_all(text):\n",
    "    text = text.replace('<br />', '<br/>')\n",
    "    text = text.replace('<p>', '')\n",
    "    text = text.replace('</p>', '')\n",
    "    text = text.replace('&amp;', '&')\n",
    "    text = text.replace('&#8211;', '-')\n",
    "    text = text.replace('&#8216;', \"'\")\n",
    "    text = text.replace('&#8217;', \"'\")\n",
    "    text = text.replace(' <img class=\"alignnone size-full wp-image-37\" src=\"http://ska.one/new.gif\"/>', '<new/>')   \n",
    "    text = text.replace(' <a href=\"http://file-under-ska.de/old/ska21/\" target=\"_blank\" rel=\"noopener\"><img src=\"http://ska.one/ska21_16.gif\" alt=\"Track von SKA 21\" border=\"0\"></a>', '<ska21/>')   \n",
    "    return text"
   ]
  },
  {
   "cell_type": "code",
   "execution_count": 6,
   "metadata": {
    "collapsed": true
   },
   "outputs": [],
   "source": [
    "repl = replace_all(rep)"
   ]
  },
  {
   "cell_type": "code",
   "execution_count": 7,
   "metadata": {
    "collapsed": false
   },
   "outputs": [
    {
     "data": {
      "text/plain": [
       "'&#8211; Joe Higgs: I&#8217;m The Song That My Enemies Sing<br/> &#8211; Andy &amp; Joey: You&#8217;re Wondering Now<br/> &#8211; Tiefenrausch: Döner <img class=\"alignnone size-full wp-image-37\" src=\"http://ska.one/new.gif\"/><br/> &#8211; King Horror: Loch Ness Monster<br/> &#8211; The Upsetters: Man From MI5<br/> &#8211; Ill At Ease: Red Eyed<br/>'"
      ]
     },
     "execution_count": 7,
     "metadata": {},
     "output_type": "execute_result"
    }
   ],
   "source": [
    "rep"
   ]
  },
  {
   "cell_type": "code",
   "execution_count": 8,
   "metadata": {
    "collapsed": false
   },
   "outputs": [
    {
     "data": {
      "text/plain": [
       "\"- Joe Higgs: I'm The Song That My Enemies Sing<br/> - Andy & Joey: You're Wondering Now<br/> - Tiefenrausch: Döner<new/><br/> - King Horror: Loch Ness Monster<br/> - The Upsetters: Man From MI5<br/> - Ill At Ease: Red Eyed<br/>\""
      ]
     },
     "execution_count": 8,
     "metadata": {},
     "output_type": "execute_result"
    }
   ],
   "source": [
    "repl"
   ]
  },
  {
   "cell_type": "code",
   "execution_count": 9,
   "metadata": {
    "collapsed": false
   },
   "outputs": [
    {
     "data": {
      "text/plain": [
       "[\"- Joe Higgs: I'm The Song That My Enemies Sing\",\n",
       " \" - Andy & Joey: You're Wondering Now\",\n",
       " ' - Tiefenrausch: Döner<new/>',\n",
       " ' - King Horror: Loch Ness Monster',\n",
       " ' - The Upsetters: Man From MI5',\n",
       " ' - Ill At Ease: Red Eyed',\n",
       " '']"
      ]
     },
     "execution_count": 9,
     "metadata": {},
     "output_type": "execute_result"
    }
   ],
   "source": [
    "repl.split('<br/>')"
   ]
  },
  {
   "cell_type": "code",
   "execution_count": 21,
   "metadata": {
    "collapsed": true
   },
   "outputs": [],
   "source": [
    "from urllib.request import urlopen \n",
    "import re\n",
    "def read_url(url): \n",
    "    return urlopen(url).read().decode()"
   ]
  },
  {
   "cell_type": "code",
   "execution_count": 22,
   "metadata": {
    "collapsed": false
   },
   "outputs": [
    {
     "data": {
      "text/plain": [
       "\"- Joe Higgs: I'm The Song That My Enemies Sing\""
      ]
     },
     "execution_count": 22,
     "metadata": {},
     "output_type": "execute_result"
    }
   ],
   "source": [
    "repl.split('<br/>')[0]"
   ]
  },
  {
   "cell_type": "code",
   "execution_count": 23,
   "metadata": {
    "collapsed": true
   },
   "outputs": [],
   "source": [
    "def parse_song_line(line):\n",
    "    # assumed to start with '- '\n",
    "    line = line[2:]\n",
    "    both = line.split(\": \")\n",
    "    artist = both[0]\n",
    "    title = both[1]\n",
    "    return artist, title\n"
   ]
  },
  {
   "cell_type": "code",
   "execution_count": 24,
   "metadata": {
    "collapsed": true
   },
   "outputs": [],
   "source": [
    "ret = parse_song_line(repl.split('<br/>')[0])"
   ]
  },
  {
   "cell_type": "code",
   "execution_count": 25,
   "metadata": {
    "collapsed": false
   },
   "outputs": [
    {
     "data": {
      "text/plain": [
       "('Joe Higgs', \"I'm The Song That My Enemies Sing\")"
      ]
     },
     "execution_count": 25,
     "metadata": {},
     "output_type": "execute_result"
    }
   ],
   "source": [
    "ret"
   ]
  },
  {
   "cell_type": "code",
   "execution_count": 44,
   "metadata": {
    "collapsed": true
   },
   "outputs": [],
   "source": [
    "def parse_all(page):\n",
    "    inner = extract_raw_playlists(page)\n",
    "    block = replace_all(inner)\n",
    "    all_songs = ['1', '2', '3', False]\n",
    "    counter = 0\n",
    "    while (counter < len(block)):\n",
    "        line = block[counter]\n",
    "        artist = 'artist'\n",
    "        title = 'title'\n",
    "        date = 'date'\n",
    "        is_new = False\n",
    "        if line == '':\n",
    "            # ignore\n",
    "            break\n",
    "        if line.endswith('<ska21/>'):\n",
    "            line = line[0:'<ska21/>'.length]\n",
    "        if line.endswith('<new/>'):\n",
    "            is_new = True\n",
    "            line = line[0:'<new/>'.length]\n",
    "        else:\n",
    "            is_new = False\n",
    "        if line.startswith('Playlist '):\n",
    "            date = line['Playlist '.length:]\n",
    "        elif line.startswith('- '):\n",
    "            artist, title = parse_song_line(line)\n",
    "        else:\n",
    "            # cannot handle line\n",
    "            print ('Cannot handle' + line)\n",
    "        all_songs[counter] = artist, title, date, is_new\n",
    "        counter += 1\n",
    "    return all_songs\n",
    "       "
   ]
  },
  {
   "cell_type": "code",
   "execution_count": 39,
   "metadata": {
    "collapsed": false
   },
   "outputs": [],
   "source": [
    "def extract_raw_playlists(text):\n",
    "    start = text.index('<!-- Start -->')\n",
    "    end = text.index('<!-- End -->')\n",
    "    raw = text[start+14 : end]\n",
    "    return raw"
   ]
  },
  {
   "cell_type": "code",
   "execution_count": 40,
   "metadata": {
    "collapsed": false
   },
   "outputs": [
    {
     "data": {
      "text/plain": [
       "'Playlists'"
      ]
     },
     "execution_count": 40,
     "metadata": {},
     "output_type": "execute_result"
    }
   ],
   "source": [
    "test = \"bububu<!-- Start -->Playlists<!-- End -->ububub\"\n",
    "extract_raw_playlists(test)\n"
   ]
  },
  {
   "cell_type": "code",
   "execution_count": 41,
   "metadata": {
    "collapsed": true
   },
   "outputs": [],
   "source": [
    "def parse_url(url):\n",
    "    text = read_url(url)\n",
    "    res = parse_all(text)\n",
    "    return res"
   ]
  },
  {
   "cell_type": "code",
   "execution_count": 45,
   "metadata": {
    "collapsed": true
   },
   "outputs": [],
   "source": [
    "def go():\n",
    "    all = parse_url('http://ska.one/playlists/playlists-2003/')\n",
    "    all.add(parse_url('http://ska.one/playlists/playlists-2004/'))\n",
    "    all.add(parse_url('http://ska.one/playlists/playlists-2005/'))\n",
    "    all.add(parse_url('http://ska.one/playlists/playlists-2006/'))\n",
    "    all.add(parse_url('http://ska.one/playlists/playlists-2007/'))\n",
    "    all.add(parse_url('http://ska.one/playlists/playlists-2008/'))\n",
    "    all.add(parse_url('http://ska.one/playlists/playlists-2009/'))\n",
    "    all.add(parse_url('http://ska.one/playlists/playlists-2010/'))\n",
    "    all.add(parse_url('http://ska.one/playlists/playlists-2011/'))\n",
    "    all.add(parse_url('http://ska.one/playlists/playlists-2012/'))\n",
    "    all.add(parse_url('http://ska.one/playlists/playlists-2013/'))\n",
    "    all.add(parse_url('http://ska.one/playlists/playlists-2014/'))\n",
    "    all.add(parse_url('http://ska.one/playlists/playlists-2015/'))\n",
    "    all.add(parse_url('http://ska.one/playlists/playlists-2016/'))\n",
    "    all.add(parse_url('http://ska.one/playlists/playlists-2017/'))\n",
    "    all.add(parse_url('http://ska.one/playlists/playlists/'))\n",
    "    print(all)"
   ]
  },
  {
   "cell_type": "code",
   "execution_count": 30,
   "metadata": {
    "collapsed": false
   },
   "outputs": [
    {
     "data": {
      "text/plain": [
       "'<!DOCTYPE html>\\n<html lang=\"de-DE\">\\n<head>\\n<meta charset=\"UTF-8\">\\n<meta name=\"viewport\" content=\"width=device-width, initial-scale=1\">\\n<title>Playlists 2003 | File Under Ska</title>\\n<link rel=\"profile\" href=\"http://gmpg.org/xfn/11\">\\n<link rel=\"pingback\" href=\"http://ska.one/xmlrpc.php\">\\n\\n<link rel=\\'dns-prefetch\\' href=\\'//fonts.googleapis.com\\' />\\n<link rel=\\'dns-prefetch\\' href=\\'//s.w.org\\' />\\n<link rel=\"alternate\" type=\"application/rss+xml\" title=\"File Under Ska &raquo; Feed\" href=\"http://ska.one/feed/\" />\\n<link rel=\"alternate\" type=\"application/rss+xml\" title=\"File Under Ska &raquo; Kommentar-Feed\" href=\"http://ska.one/comments/feed/\" />\\n\\t\\t<script type=\"text/javascript\">\\n\\t\\t\\twindow._wpemojiSettings = {\"baseUrl\":\"https:\\\\/\\\\/s.w.org\\\\/images\\\\/core\\\\/emoji\\\\/2.4\\\\/72x72\\\\/\",\"ext\":\".png\",\"svgUrl\":\"https:\\\\/\\\\/s.w.org\\\\/images\\\\/core\\\\/emoji\\\\/2.4\\\\/svg\\\\/\",\"svgExt\":\".svg\",\"source\":{\"concatemoji\":\"http:\\\\/\\\\/ska.one\\\\/wp-includes\\\\/js\\\\/wp-emoji-release.min.js?ver=4.9.6\"}};\\n\\t\\t\\t!function(a,b,c){function d(a,b){var c=String.fromCharCode;l.clearRect(0,0,k.width,k.height),l.fillText(c.apply(this,a),0,0);var d=k.toDataURL();l.clearRect(0,0,k.width,k.height),l.fillText(c.apply(this,b),0,0);var e=k.toDataURL();return d===e}function e(a){var b;if(!l||!l.fillText)return!1;switch(l.textBaseline=\"top\",l.font=\"600 32px Arial\",a){case\"flag\":return!(b=d([55356,56826,55356,56819],[55356,56826,8203,55356,56819]))&&(b=d([55356,57332,56128,56423,56128,56418,56128,56421,56128,56430,56128,56423,56128,56447],[55356,57332,8203,56128,56423,8203,56128,56418,8203,56128,56421,8203,56128,56430,8203,56128,56423,8203,56128,56447]),!b);case\"emoji\":return b=d([55357,56692,8205,9792,65039],[55357,56692,8203,9792,65039]),!b}return!1}function f(a){var c=b.createElement(\"script\");c.src=a,c.defer=c.type=\"text/javascript\",b.getElementsByTagName(\"head\")[0].appendChild(c)}var g,h,i,j,k=b.createElement(\"canvas\"),l=k.getContext&&k.getContext(\"2d\");for(j=Array(\"flag\",\"emoji\"),c.supports={everything:!0,everythingExceptFlag:!0},i=0;i<j.length;i++)c.supports[j[i]]=e(j[i]),c.supports.everything=c.supports.everything&&c.supports[j[i]],\"flag\"!==j[i]&&(c.supports.everythingExceptFlag=c.supports.everythingExceptFlag&&c.supports[j[i]]);c.supports.everythingExceptFlag=c.supports.everythingExceptFlag&&!c.supports.flag,c.DOMReady=!1,c.readyCallback=function(){c.DOMReady=!0},c.supports.everything||(h=function(){c.readyCallback()},b.addEventListener?(b.addEventListener(\"DOMContentLoaded\",h,!1),a.addEventListener(\"load\",h,!1)):(a.attachEvent(\"onload\",h),b.attachEvent(\"onreadystatechange\",function(){\"complete\"===b.readyState&&c.readyCallback()})),g=c.source||{},g.concatemoji?f(g.concatemoji):g.wpemoji&&g.twemoji&&(f(g.twemoji),f(g.wpemoji)))}(window,document,window._wpemojiSettings);\\n\\t\\t</script>\\n\\t\\t<style type=\"text/css\">\\nimg.wp-smiley,\\nimg.emoji {\\n\\tdisplay: inline !important;\\n\\tborder: none !important;\\n\\tbox-shadow: none !important;\\n\\theight: 1em !important;\\n\\twidth: 1em !important;\\n\\tmargin: 0 .07em !important;\\n\\tvertical-align: -0.1em !important;\\n\\tbackground: none !important;\\n\\tpadding: 0 !important;\\n}\\n</style>\\n<link rel=\\'stylesheet\\' id=\\'intergalactic-style-css\\'  href=\\'http://ska.one/wp-content/themes/intergalactic/style.css?ver=4.9.6\\' type=\\'text/css\\' media=\\'all\\' />\\n<link rel=\\'stylesheet\\' id=\\'genericons-css\\'  href=\\'http://ska.one/wp-content/themes/intergalactic/genericons/genericons.css?ver=3.4.1\\' type=\\'text/css\\' media=\\'all\\' />\\n<link rel=\\'stylesheet\\' id=\\'intergalactic-lato-css\\'  href=\\'https://fonts.googleapis.com/css?family=Lato%3A300%2C400%2C700%2C300italic%2C400italic%2C700italic%26subset%3Dlatin%2Clatin-ext&#038;subset=latin%2Clatin-ext\\' type=\\'text/css\\' media=\\'all\\' />\\n<script type=\\'text/javascript\\' src=\\'http://ska.one/wp-includes/js/jquery/jquery.js?ver=1.12.4\\'></script>\\n<script type=\\'text/javascript\\' src=\\'http://ska.one/wp-includes/js/jquery/jquery-migrate.min.js?ver=1.4.1\\'></script>\\n<link rel=\\'https://api.w.org/\\' href=\\'http://ska.one/wp-json/\\' />\\n<link rel=\"EditURI\" type=\"application/rsd+xml\" title=\"RSD\" href=\"http://ska.one/xmlrpc.php?rsd\" />\\n<link rel=\"wlwmanifest\" type=\"application/wlwmanifest+xml\" href=\"http://ska.one/wp-includes/wlwmanifest.xml\" /> \\n<meta name=\"generator\" content=\"WordPress 4.9.6\" />\\n<link rel=\"canonical\" href=\"http://ska.one/playlists/playlists-2003/\" />\\n<link rel=\\'shortlink\\' href=\\'http://ska.one/?p=182\\' />\\n<link rel=\"alternate\" type=\"application/json+oembed\" href=\"http://ska.one/wp-json/oembed/1.0/embed?url=http%3A%2F%2Fska.one%2Fplaylists%2Fplaylists-2003%2F\" />\\n<link rel=\"alternate\" type=\"text/xml+oembed\" href=\"http://ska.one/wp-json/oembed/1.0/embed?url=http%3A%2F%2Fska.one%2Fplaylists%2Fplaylists-2003%2F&#038;format=xml\" />\\n</head>\\n\\n<body class=\"page-template-default page page-id-182 page-child parent-pageid-169 single-page\">\\n<div id=\"page\" class=\"hfeed site\">\\n\\t<a class=\"skip-link screen-reader-text\" href=\"#content\">Zum Inhalt springen</a>\\n\\t<header id=\"masthead\" class=\"site-header\" role=\"banner\">\\n\\t\\t\\t\\t<div class=\"site-branding\">\\n\\t\\t\\t<h1 class=\"site-title\"><a href=\"http://ska.one/\" rel=\"home\">File Under Ska</a></h1>\\n\\t\\t\\t<h2 class=\"site-description\">Wir spielen beides &#8211; Ska und Rocksteady.</h2>\\n\\t\\t</div>\\n\\n\\t\\t<button class=\"menu-toggle x\">\\n\\t\\t\\t<span class=\"lines\"></span>\\n\\t\\t\\t<span class=\"screen-reader-text\">Primäres Menü</span>\\n\\t\\t</button>\\n\\t\\t<div class=\"slide-menu\">\\n\\t\\t\\t<nav id=\"site-navigation\" class=\"main-navigation\" role=\"navigation\">\\n\\t\\t\\t\\t<div class=\"menu\"><ul>\\n<li ><a href=\"http://ska.one/\">Startseite</a></li><li class=\"page_item page-item-38\"><a href=\"http://ska.one/bilder/\">Bilder</a></li>\\n<li class=\"page_item page-item-10\"><a href=\"http://ska.one/kontakt/\">Kontakt</a></li>\\n<li class=\"page_item page-item-14\"><a href=\"http://ska.one/misc/\">Misc</a></li>\\n<li class=\"page_item page-item-169 page_item_has_children current_page_ancestor current_page_parent\"><a href=\"http://ska.one/playlists/\">Playlists</a>\\n<ul class=\\'children\\'>\\n\\t<li class=\"page_item page-item-182 current_page_item\"><a href=\"http://ska.one/playlists/playlists-2003/\">Playlists 2003</a></li>\\n\\t<li class=\"page_item page-item-186\"><a href=\"http://ska.one/playlists/playlists-2004/\">Playlists 2004</a></li>\\n\\t<li class=\"page_item page-item-191\"><a href=\"http://ska.one/playlists/playlists-2005/\">Playlists 2005</a></li>\\n\\t<li class=\"page_item page-item-193\"><a href=\"http://ska.one/playlists/playlists-2006/\">Playlists 2006</a></li>\\n\\t<li class=\"page_item page-item-195\"><a href=\"http://ska.one/playlists/playlists-2007/\">Playlists 2007</a></li>\\n\\t<li class=\"page_item page-item-197\"><a href=\"http://ska.one/playlists/playlists-2008/\">Playlists 2008</a></li>\\n\\t<li class=\"page_item page-item-199\"><a href=\"http://ska.one/playlists/playlists-2009/\">Playlists 2009</a></li>\\n\\t<li class=\"page_item page-item-201\"><a href=\"http://ska.one/playlists/playlists-2010/\">Playlists 2010</a></li>\\n\\t<li class=\"page_item page-item-203\"><a href=\"http://ska.one/playlists/playlists-2011/\">Playlists 2011</a></li>\\n\\t<li class=\"page_item page-item-207\"><a href=\"http://ska.one/playlists/playlists-2012/\">Playlists 2012</a></li>\\n\\t<li class=\"page_item page-item-209\"><a href=\"http://ska.one/playlists/playlists-2013/\">Playlists 2013</a></li>\\n\\t<li class=\"page_item page-item-211\"><a href=\"http://ska.one/playlists/playlists-2014/\">Playlists 2014</a></li>\\n\\t<li class=\"page_item page-item-213\"><a href=\"http://ska.one/playlists/playlists-2015/\">Playlists 2015</a></li>\\n\\t<li class=\"page_item page-item-215\"><a href=\"http://ska.one/playlists/playlists-2016/\">Playlists 2016</a></li>\\n\\t<li class=\"page_item page-item-217\"><a href=\"http://ska.one/playlists/playlists-2016-2/\">Playlists 2016</a></li>\\n\\t<li class=\"page_item page-item-219\"><a href=\"http://ska.one/playlists/playlists-2017/\">Playlists 2017</a></li>\\n</ul>\\n</li>\\n<li class=\"page_item page-item-12\"><a href=\"http://ska.one/skalender/\">Skalender</a></li>\\n<li class=\"page_item page-item-18\"><a href=\"http://ska.one/was-ist-ska/\">Was ist Ska?</a></li>\\n<li class=\"page_item page-item-16\"><a href=\"http://ska.one/start/links/\">Links</a></li>\\n</ul></div>\\n\\t\\t\\t</nav><!-- #site-navigation -->\\n\\n\\t\\t\\t\\n\\t\\t\\t\\n<div id=\"secondary\" class=\"widget-area\" role=\"complementary\">\\n\\t<aside id=\"search-2\" class=\"widget widget_search\"><form role=\"search\" method=\"get\" class=\"search-form\" action=\"http://ska.one/\">\\n\\t\\t\\t\\t<label>\\n\\t\\t\\t\\t\\t<span class=\"screen-reader-text\">Suche nach:</span>\\n\\t\\t\\t\\t\\t<input type=\"search\" class=\"search-field\" placeholder=\"Suche&#160;&hellip;\" value=\"\" name=\"s\" />\\n\\t\\t\\t\\t</label>\\n\\t\\t\\t\\t<input type=\"submit\" class=\"search-submit\" value=\"Suche\" />\\n\\t\\t\\t</form></aside></div><!-- #secondary -->\\n\\n\\t\\t</div>\\n\\t</header><!-- #masthead -->\\n\\t<div id=\"content\" class=\"site-content\">\\n\\n\\t<div id=\"primary\" class=\"content-area\">\\n\\t\\t<main id=\"main\" class=\"site-main\" role=\"main\">\\n\\n\\t\\t\\t\\n\\t\\t\\t\\t\\n<article id=\"post-182\" class=\"post-182 page type-page status-publish hentry\">\\n\\t<header class=\"entry-header\">\\n\\t\\t<h1 class=\"entry-title\">Playlists 2003</h1>\\t</header><!-- .entry-header -->\\n\\n\\t<div class=\"entry-content\">\\n\\t\\t<p><a href=\"http://ska.one/playlists/\">2018</a> <a href=\"http://ska.one/playlists/playlists-2017/\">2017</a> <a href=\"http://ska.one/playlists/playlists-2016/\">2016</a> <a href=\"http://ska.one/playlists/playlists-2015/\">2015</a> <a href=\"http://ska.one/playlists/playlists-2014/\">2014</a> <a href=\"http://ska.one/playlists/playlists-2013/\">2013</a> <a href=\"http://ska.one/playlists/playlists-2012/\">2012</a> <a href=\"http://ska.one/playlists/playlists-2011/\">2011</a> <a href=\"http://ska.one/playlists/playlists-2010/\">2010</a> <a href=\"http://ska.one/playlists/playlists-2009/\">2009</a> <a href=\"http://ska.one/playlists/playlists-2008/\">2008</a> <a href=\"http://ska.one/playlists/playlists-2007/\">2007</a> <a href=\"http://ska.one/playlists/playlists-2006/\">2006</a> <a href=\"http://ska.one/playlists/playlists-2005/\">2005</a> <a href=\"http://ska.one/playlists/playlists-2004/\">2004</a></p>\\n<p><!-- Start --></p>\\n<p>Playlist 29.12.2003:</p>\\n<p>&#8211; Bad Manners: This Is Ska<br />\\n&#8211; Soulfood International: T&#8217;N&#8217;T<br />\\n&#8211; Mad Caddies: Econoline<br />\\n&#8211; Catch 22: Hard To Impress<br />\\n&#8211; Eläkeläiset: Humppa<br />\\n&#8211; Ska-P: Welcome To Hell<br />\\n&#8211; Suggs: No More Alcohol<br />\\n&#8211; The Selecter: Carry Go Bring Home<br />\\n&#8211; Surfits: Straight At The Edge Badge<br />\\n&#8211; Skaos: Better Beware<br />\\n&#8211; General Rudie: So Much<br />\\n&#8211; Two Thousand Flushes: Mi Hamster Esta Muerto<br />\\n&#8211; Tschiggedab: Tschiggedab<br />\\n&#8211; Edje Ska: Problemen In Minnen Hof<br />\\n&#8211; The Robustos: No Strangers Here<br />\\n&#8211; The Specials: You&#8217;re Wondering Now</p>\\n<p>Playlist 22.12.2003:</p>\\n<p>&#8211; The Ethopians: Train To Skaville<br />\\n&#8211; Maroon Town: Pound To The Dollar<br />\\n&#8211; Court Jester&#8217;s Crew: The Mysterious Voyage of Dillfried die Maus<br />\\n&#8211; Yellow Umbrella: Days Are Numbered<br />\\n&#8211; The Riffs: Monday Morning<br />\\n&#8211; The Busters: Friday On My Mind<br />\\n&#8211; Laurel Aitken: Going Back To The Frontline<br />\\n&#8211; Wickeda: Me And Bobby Drinking Coffee<br />\\n&#8211; Piracy: Sudden Heroes<br />\\n&#8211; Toots &amp; The Maytals: (Take Me Home) Country Roads<br />\\n&#8211; Wisecräcker: Mucker<br />\\n&#8211; Tokyo Ska Paradise Orchestra: 5 Days of Tequila<br />\\n&#8211; New York Ska-Jazz Ensemble: Haitian Fight Song</p>\\n<p>Playlist 15.12.2003:</p>\\n<p>&#8211; The Selecter: The Selecter<br />\\n&#8211; Schwarz auf Weiß: Alles wird sich ändern, wenn wir groß sind<br />\\n&#8211; Sublime: Santeria<br />\\n&#8211; Frau Doktor: Träger Sack<br />\\n&#8211; Ska-P: Planeta Eskoria<br />\\n&#8211; Lionsclub: The Persuaders<br />\\n&#8211; Big Lick: 7 Grand<br />\\n&#8211; Skoidats: Granted<br />\\n&#8211; Big D And The Kids Table: In Front Of Me</p>\\n<p>Playlist 8.12.2003:</p>\\n<p>&#8211; <i>Jingle</i><br />\\n&#8211; Skanatra: Come Fly With Me<br />\\n&#8211; The 27 Red: Angry Man<br />\\n&#8211; Rollings: Skanon<br />\\n&#8211; The Juggins: Summer Gigolo<br />\\n&#8211; The Selecter: They Make Me Mad<br />\\n&#8211; Dr. Ring-Ding: Bad Company<br />\\n&#8211; Derrick Morgan: Housewive&#8217;s Choice<br />\\n&#8211; Surfits: Fine City<br />\\n&#8211; The Clash: London Calling<br />\\n&#8211; Court Jester&#8217;s Crew: The Dream<br />\\n&#8211; Tiefenrausch: Astronauten<br />\\n&#8211; Mark Foggo&#8217;s Skasters: My Little Girly<br />\\n&#8211; The Frits: Take Him Again<br />\\n&#8211; Dance Hall Crashers: D.H.C.<br />\\n&#8211; Dr. Woggle &amp; The Radio: I Can&#8217;t Say <img class=\"alignnone size-full wp-image-37\" src=\"http://ska.one/new.gif\"/></p>\\n<p>Playlist 1.12.2003:</p>\\n<p>&#8211; <i>Jingle</i><br />\\n&#8211; Bakesys: Liquidator<br />\\n&#8211; Wisecräcker: Ambition<br />\\n&#8211; Gangster Fun: Dirty Love<br />\\n&#8211; Dub Voyagers: Frau Barbara<br />\\n&#8211; Skalariak: Despïdeme<br />\\n&#8211; Eläkeläiset: Pöpi<br />\\n&#8211; Yellow Umbrella: Big Promises<br />\\n&#8211; Madness: One Better Day<br />\\n&#8211; Skalariak: Vodka Revolution<br />\\n&#8211; Mr. Review: Chasing<br />\\n&#8211; Desmond Dekker: That&#8217;s The Way Life Goes<br />\\n&#8211; Venus Hill: Separate Lives<br />\\n&#8211; Tiefenrausch: Ska Vampir<br />\\n&#8211; Hepcat: All For You<br />\\n&#8211; No Sports: Skamachine<br />\\n&#8211; Lionsclub: Star Wars &#8211; The Throne Room</p>\\n<p>Playlist 24.11.2003:</p>\\n<p>&#8211; The Specials. A Message To You Rudy<br />\\n&#8211; Victor Rice: Drum Thief <img class=\"alignnone size-full wp-image-37\" src=\"http://ska.one/new.gif\"/><br />\\n&#8211; Trojan Horns: King of Lank<br />\\n&#8211; Dr. Woggle &amp; The Radio: Brother <img class=\"alignnone size-full wp-image-37\" src=\"http://ska.one/new.gif\"/><br />\\n&#8211; Judge Dread: Oh She Is A Big Girl Now<br />\\n&#8211; Dub Voyagers: Rastafahndung<br />\\n&#8211; The Busters: Wish You Were Here<br />\\n&#8211; The Selecter: Hearsay<br />\\n&#8211; Eläkeläiset: Humppalaki<br />\\n&#8211; Bluekilla: Billy The Boy<br />\\n&#8211; The Agents: Psycho Mick<br />\\n&#8211; Surfits: Straight At The Edge Badge <img class=\"alignnone size-full wp-image-37\" src=\"http://ska.one/new.gif\"/><br />\\n&#8211; The Skatalites: Hot Cargo<br />\\n&#8211; Hepcat: Miss Congeniality<br />\\n&#8211; Lionsclub: Rocky: Come Fly Now<br />\\n&#8211; Bad Manners: Skaville UK</p>\\n<p>Playlist 17.11.2003:</p>\\n<p>&#8211; Tokyo Ska Paradise Orchestra: Skarada Dub<br />\\n&#8211; Pama International: I Love You Too Much To Ever Stop Lying <img class=\"alignnone size-full wp-image-37\" src=\"http://ska.one/new.gif\"/><br />\\n&#8211; The Juggins: Simon Steward<br />\\n&#8211; Dr. Woggle &amp; The Radio: Rhythm And Soul <img class=\"alignnone size-full wp-image-37\" src=\"http://ska.one/new.gif\"/><br />\\n&#8211; Skaliners: Face It<br />\\n&#8211; United Balls: Pogo in Togo<br />\\n&#8211; Eläkeläiset: Dumkopf<br />\\n&#8211; Surfits: Pissed On <img class=\"alignnone size-full wp-image-37\" src=\"http://ska.one/new.gif\"/><br />\\n&#8211; The Skatalites: Occupation<br />\\n&#8211; The Stingers ATX: Stop Thinkin&#8216; <img class=\"alignnone size-full wp-image-37\" src=\"http://ska.one/new.gif\"/><br />\\n&#8211; Ska-P: Como Me Pongo<br />\\n&#8211; The Stingers ATX: What A Wonderful Dub <img class=\"alignnone size-full wp-image-37\" src=\"http://ska.one/new.gif\"/><br />\\n&#8211; Dr. Woggle &amp; The Radio: Lions And Dogs <img class=\"alignnone size-full wp-image-37\" src=\"http://ska.one/new.gif\"/><br />\\n&#8211; The Butlers: Thunderball<br />\\n&#8211; Norton&#8217;s Imperial Guard: John Tesh</p>\\n<p>Playlist 10.11.2003:</p>\\n<p>&#8211; Madness: One Step Beyond<br />\\n&#8211; Pama International: Truly Madly Deeply <img class=\"alignnone size-full wp-image-37\" src=\"http://ska.one/new.gif\"/><br />\\n&#8211; The Juggins: Ska Against Racism<br />\\n&#8211; Surfits: 16 Balls <img class=\"alignnone size-full wp-image-37\" src=\"http://ska.one/new.gif\"/><br />\\n&#8211; Amphetameanies: Last Night<br />\\n&#8211; Geier Sturzflug: Besuchen Sie Europa<br />\\n&#8211; Pama International: Earthquake <img class=\"alignnone size-full wp-image-37\" src=\"http://ska.one/new.gif\"/><br />\\n&#8211; Surfits: Hurry Up <img class=\"alignnone size-full wp-image-37\" src=\"http://ska.one/new.gif\"/><br />\\n&#8211; Laurel Aitken: Night Train To Tokyo<br />\\n&#8211; Victor Rice: Lazy River NYC <img class=\"alignnone size-full wp-image-37\" src=\"http://ska.one/new.gif\"/></p>\\n<p>Playlist 3.11.2003:</p>\\n<p>&#8211; Suspects: Seek And Destroy<br />\\n&#8211; Die Ärzte: Schneller Leben<br />\\n&#8211; Victor Rice: Commit <img class=\"alignnone size-full wp-image-37\" src=\"http://ska.one/new.gif\"/><br />\\n&#8211; Soulfood International: Experimenteller Kram <img class=\"alignnone size-full wp-image-37\" src=\"http://ska.one/new.gif\"/><br />\\n&#8211; La Vela Puerca: Pedro<br />\\n&#8211; Soulfood International: Südstadt Reggae Nr. 2 <img class=\"alignnone size-full wp-image-37\" src=\"http://ska.one/new.gif\"/><br />\\n&#8211; Blechreiz: Sun &amp; Shadow<br />\\n&#8211; Eläkeläiset: Bingholm<br />\\n&#8211; Dub Voyagers: Fernsehbaby<br />\\n&#8211; The Specials: Gangsters<br />\\n&#8211; Mad Caddies: Econoline<br />\\n&#8211; The Busters: Under Cover<br />\\n&#8211; Soulfood International: Stamina Sound <img class=\"alignnone size-full wp-image-37\" src=\"http://ska.one/new.gif\"/><br />\\n&#8211; The Juggins: Tonight<br />\\n&#8211; Alton And Hortense Ellis: Psychedelic Rock<br />\\n&#8211; The Selecter: Missing Words</p>\\n<p>Playlist 27.10.2003:</p>\\n<p>&#8211; Thumper: Crazy Train<br />\\n&#8211; Doreen Shaffer: Turn Your Lamp Down Low<br />\\n&#8211; Crazy Baldhead: Don&#8217;t Turn Your Back<br />\\n&#8211; Victor Rice: Fique <img class=\"alignnone size-full wp-image-37\" src=\"http://ska.one/new.gif\"/><br />\\n&#8211; The Busters: Fun Makers<br />\\n&#8211; Victor Rice: Neighbors <img class=\"alignnone size-full wp-image-37\" src=\"http://ska.one/new.gif\"/><br />\\n&#8211; Polemic: Baba Ryba<br />\\n&#8211; Hepcat: Earthquake And Fire<br />\\n&#8211; Madness: Time For Tea<br />\\n&#8211; Frau Doktor: Das Selbe<br />\\n&#8211; Bad Manners: Bonanza Ska<br />\\n&#8211; The Selecter: Mother Knows Best<br />\\n&#8211; Gay City Rollers: Havana Beach Hotel<br />\\n&#8211; Laurel Aitken with Court Jester&#8217;s Crew: Cockroach<br />\\n&#8211; The Butlers: Sock It To &#8218;em J.B.<br />\\n&#8211; Ngobo Ngobo: All Over Now<br />\\n&#8211; Judge Dread: Nine And A Bit Skank</p>\\n<p>Playlist 20.10.2003 (zu Gast: die <a href=\"http://www.dubvoyagers.de\" target=\"_blank\" rel=\"noopener\">Dub Voyagers</a>):</p>\\n<p>&#8211; The Specials: Friday Night, Saturday Morning<br />\\n&#8211; Planet Smashers: Pee In The Elevator<br />\\n&#8211; Eläkeläiset: Jump<br />\\n&#8211; Dub Voyagers: Rastafahndung<br />\\n&#8211; Les Babacools: Murder<br />\\n&#8211; Seeed: Psychedelic Kingdom<br />\\n&#8211; Dub Voyagers: Fernsehbaby<br />\\n&#8211; Soulfood International: T&#8217;N&#8217;T <img class=\"alignnone size-full wp-image-37\" src=\"http://ska.one/new.gif\"/><br />\\n&#8211; Victor Rice: The Whip <img class=\"alignnone size-full wp-image-37\" src=\"http://ska.one/new.gif\"/><br />\\n&#8211; Dub Voyagers: Fett<br />\\n&#8211; Spacemonkeyz vs. Gorillaz: M1A1</p>\\n<p>Playlist 13.10.2003:</p>\\n<p>&#8211; Ngobo Ngobo: Hi There Hello<br />\\n&#8211; Ngobo Ngobo: Spaceflight 505<br />\\n&#8211; The Selecter: The Selecter<br />\\n&#8211; Ska-P: Planeta Eskoria<br />\\n&#8211; Gangster Fun: Dirty Love<br />\\n&#8211; Madness: Believe Me<br />\\n&#8211; Blechreiz: Der Altbundeskanzler<br />\\n&#8211; The Hotknives: Dace &amp; Mary<br />\\n&#8211; No Respect: Human Scum<br />\\n&#8211; Laurel Aitken: Peggy Sue<br />\\n&#8211; Eastern Standard Time: Perhaps Perhaps Perhaps<br />\\n&#8211; The Busters: Sharp Dressed Girl<br />\\n&#8211; The Amazing Crowns: Do The Dog<br />\\n&#8211; Derrick Morgan: Teach My Baby<br />\\n&#8211; The Toasters: B27<br />\\n&#8211; Dance Hall Crashers: Blind Leading The Blind<br />\\n&#8211; No Sports: Five<br />\\n&#8211; Spy Eye: These Boots Were Made For Stomping<br />\\n&#8211; Stubborn Allstars: Open Season</p>\\n<p>Playlist 6.10.2003:</p>\\n<p>&#8211; Piracy: Intro<br />\\n&#8211; Piracy: The Piracy Anthem<br />\\n&#8211; Madness: Baggy Trousers<br />\\n&#8211; Bluekilla: She Came<br />\\n&#8211; Blondie: Screaming Skin<br />\\n&#8211; The 27 Red: Leavin&#8216;<br />\\n&#8211; The Selecter: My Perfect World<br />\\n&#8211; Maki Nomiya: Luna Cruise<br />\\n&#8211; Skaos: After Midnight<br />\\n&#8211; Skaliners: Change The World<br />\\n&#8211; The Specials: Too Much Too Young<br />\\n&#8211; Lax Alex Con Trax: Smalltown Boy<br />\\n&#8211; The Skatalites: Two For One<br />\\n&#8211; El Bosso &amp; die Ping Pongs: Wo ist diese Stadt<br />\\n&#8211; Kingpins: Beat Girl (Main Title)<br />\\n&#8211; The Allsorts: What More Can I Do<br />\\n&#8211; No Sports: Radio</p>\\n<p>Playlist 29.9.2003:</p>\\n<p>&#8211; Wisecräcker feat. Denise M&#8217;Baye: Time To Show<br />\\n&#8211; Sublime: Santeria<br />\\n&#8211; Dr. Ring-Ding &amp; The Senior Allstars: Long Time Music<br />\\n&#8211; Ngobo Ngobo: No One Cares<br />\\n&#8211; The Selecter: Hairspray<br />\\n&#8211; Tokyo Ska Paradise Orchestra: Filmmakers Bleed<br />\\n&#8211; Schwarz auf Weiß: Alles wird sich ändern, wenn wir groß sind<br />\\n&#8211; Hepcat: Bobby &amp; Joe<br />\\n&#8211; Piracy: Postcard<br />\\n&#8211; Judge Dread: The Winkle Man<br />\\n&#8211; Screwed Up: Your Secret<br />\\n&#8211; The Skatalites: Cleopatra<br />\\n&#8211; Skanatra: New York New York<br />\\n&#8211; The Busters: Rude Vibrations</p>\\n<p>Playlist 22.9.2003:</p>\\n<p>&#8211; The Selecter: James Bond<br />\\n&#8211; Surfits: Ska Noir<br />\\n&#8211; No Doubt: Sunday Morning<br />\\n&#8211; The Busters feat. Farin Urlaub: Liebe macht blind<br />\\n&#8211; Catch 22: American Pie<br />\\n&#8211; Rollings: I Got No Reason<br />\\n&#8211; The Selecter: Missing Words<br />\\n&#8211; The Busters: Summertime<br />\\n&#8211; The Slackers: Have The Time<br />\\n&#8211; Derrick Harriott: Solomon<br />\\n&#8211; The Selecter: Three Minute Hero<br />\\n&#8211; Babylon Circus: Haffi Go<br />\\n&#8211; Critical Mass: I Dunno What To Do<br />\\n&#8211; Surfits: Pissed On<br />\\n&#8211; beNUTS: Zivi Zivot<br />\\n&#8211; Catch 22: San Francisco Payphone<br />\\n&#8211; Eläkeläiset: Humppaan Muna Tulessa (Light My Fire)<br />\\n&#8211; The Selecter: On My Radio</p>\\n<p>Playlist 15.9.2003:</p>\\n<p>&#8211; Bad Manners: This Is Ska<br />\\n&#8211; The Busters: Dead Or Alive<br />\\n&#8211; Hepcat: Dollar Dance<br />\\n&#8211; Trojan Horns: I Like Bouncing<br />\\n&#8211; Court Jester&#8217;s Crew: We Let The Good Times Roll<br />\\n&#8211; Eläkeläiset: Kids In America<br />\\n&#8211; No Sports: How Do You Do<br />\\n&#8211; Planet Smashers: Skate Or Die<br />\\n&#8211; Tokyo Ska Paradise Orchestra: Skarada Dub<br />\\n&#8211; The Specials: Rat Race<br />\\n&#8211; The Busters: Sleep Away The Rainy Days<br />\\n&#8211; Greenhouse: Wake Me Up Before You Gogo<br />\\n&#8211; The Skatalites: Simmer Down<br />\\n&#8211; Maroon Town: Nostalgia<br />\\n&#8211; The Selecter: Out On The Street</p>\\n<p>Playlist 8.9.2003:</p>\\n<p>&#8211; Madness: One Step Beyond<br />\\n&#8211; Mad Caddies: Shut The Door<br />\\n&#8211; The Robustos: My Heart &amp; Soul<br />\\n&#8211; The Busters: Enjoy Yourself<br />\\n&#8211; Save Ferris: Come On Eileen<br />\\n&#8211; The Skatalites: Scandal Ska<br />\\n&#8211; Eläkeläiset: Friday I&#8217;m In Love<br />\\n&#8211; El Bosso &amp; die Ping-Pongs: Shame &amp; Scandal<br />\\n&#8211; Planet Smashers: No Self Control<br />\\n&#8211; The 88&#8217;s: She Fell In Love With James Bond<br />\\n&#8211; Dzieci Kapitana Klossa: Spopka Roza<br />\\n&#8211; Dr. Woggle &amp; The Radio: 10 9 8 7 6<br />\\n&#8211; Less Than Jake: Johnny Quest Thinks We&#8217;re Sell-Outs<br />\\n&#8211; La Vela Puerca: A Su Bola<br />\\n&#8211; Mad Caddies: Road Rash<br />\\n&#8211; The Toasters: ?</p>\\n<p>Playlist 1.9.2003:</p>\\n<p>&#8211; Swingtones: Primaries<br />\\n&#8211; Hepcat: Hooligans<br />\\n&#8211; Messer Banzani: Peace Is Wonder<br />\\n&#8211; Skankan: Brzozowa<br />\\n&#8211; Big Lick: 7 Grand<br />\\n&#8211; The Selecter: James Bond<br />\\n&#8211; The Skatalites: Man In The Street<br />\\n&#8211; Surfits: Ride Da Tide<br />\\n&#8211; Skarface: Too Old<br />\\n&#8211; Screwed Up: Who&#8217;s That Girl<br />\\n&#8211; Mad Butchers: Glutton<br />\\n&#8211; Frau Doktor: Alte Männer<br />\\n&#8211; La Vela Puerca: Alta Magia<br />\\n&#8211; Tremende: Che Combinazione<br />\\n&#8211; The Busters: Go Below<br />\\n&#8211; Lionsclub: Secret Agent Man</p>\\n<p>Playlist 25.8.2003:</p>\\n<p>&#8211; Mark Foggo&#8217;s Skasters: Hello<br />\\n&#8211; Prince Buster &amp; The Skatalites: King of Kings<br />\\n&#8211; The Robustos: I Heard It Through The Grapevine<br />\\n&#8211; The Busters: We Are The Champions<br />\\n&#8211; The Selecter: Murder<br />\\n&#8211; Frau Doktor: Prolskin<br />\\n&#8211; Ska&#8217;d For Life: Rebecca<br />\\n&#8211; Karamelo Santo <i>live</i><br />\\n&#8211; Hepcat: Keep On<br />\\n&#8211; No Sports: Famous<br />\\n&#8211; The Frits: Little Idiots<br />\\n&#8211; The Butlers: Rockford Files<br />\\n&#8211; Desmond Dekker: My World Is Blue<br />\\n&#8211; The Specials: Friday Night Saturday Morning<br />\\n&#8211; Mr. Review: The Feeling Is Alright<br />\\n&#8211; The Scofflaws: Rudy&#8217;s Back</p>\\n<p>Playlist 23.8.2003 (lange <i>File Under Ska</i>-Nacht 22-4 Uhr mit 100 Liedern):</p>\\n<p>Dr. Ring-Ding: Dandimite<br />\\nFrau Doktor: Auf dem Weg in die Stadt<br />\\nDr. Woggle &amp; The Radio: Radio Tune<br />\\nThe Toasters: Don&#8217;t Let The Bastards Grind You Down<br />\\nSpicy Roots: Do You Know<br />\\nJudge Dread: Dr. Kitch<br />\\nIntensified: Turn Me Loose<br />\\nMark Foggo: Girls In Heaven<br />\\nLaurel Aitken: Sally Brown<br />\\nPrince Buster: Madness<br />\\nThe Selecter: On My Radio<br />\\nSka Trek: Woman Catch A Man<br />\\nEl Bosso &amp; die Ping-Pongs: Apocalypse<br />\\nRocker-T: One More<br />\\nBluekilla: Disseparate<br />\\nSpicy Roots: Ska Fever<br />\\nThe Robustos: Don&#8217;t Be Down<br />\\nDoreen Shaffer &amp; Dr. Ring-Ding: Mia Come Back<br />\\nMr. Review: Prejudice<br />\\nTrojan Horns: I Like Bouncing<br />\\nThe Specials: Stupid Marriage<br />\\n?: Abba Abba<br />\\nMaroon Town: Fix The Future<br />\\nThe Allstonians: Mariachi Goes Ska<br />\\nThe Busters: Mickey Mouse In Moscow <i>live</i><br />\\nBluekilla: Ska Is Our Business<br />\\nKaramelo Santo: El Reo<br />\\nThe Skeletones: Four of Them Outta Jail<br />\\nThe Skatalites: Pussycat<br />\\nIntensified: Fat Cat<br />\\nThe Toasters: Secret Agent Man<br />\\nThe Frits: Auferstanden aus Ruinen<br />\\nNo Sports: Rudy<br />\\nMoskovskaya: Ultimatly<br />\\nAl Wilson: The Snake<br />\\nThe Pietasters: Same Old Song<br />\\nSpicy Roots: Optimism<br />\\nFrau Doktor: Tu vuoi l&#8217;amore<br />\\nThe Hotknives: The Same All Over The World<br />\\nYebo: Cleopatra<br />\\nSka Trek: True Confession<br />\\nJimmy Cliff: Carry Go Bring Home<br />\\nThe Allstonians: The Allston Beat<br />\\nFrau Doktor: Ohne Dich<br />\\nNo Respect: Human Scum<br />\\nPiracy: Kleinmachnov<br />\\nDr. Raju: It Doesn&#8217;t Make It Alright<br />\\nThe Skatalites: Ska Ska Ska<br />\\nSpy Eye: These Boots Were Made For Stomping<br />\\nThe Busters: No Respect<br />\\nNatural Rhythm: Blue Beat And Ska<br />\\nSka-P: Tijuana<br />\\nThe Robustos: I Heard It Through The Grapevine<br />\\nMadness: Wings of A Dove<br />\\nBlechreiz: James Bond<br />\\nEläkeläiset: ?<br />\\nThe Slackers: You Must Be Good<br />\\nThe Tiny Hat Orchestra: Skaface<br />\\nTwo Thousand Flushes: Mi Hamster Esta Muerto<br />\\nThe Ska Flames: Ska Fever<br />\\nThe Robustos: Hecho A-Mano<br />\\nThe Selecter: Three Minute Hero<br />\\nNot Bob Marley: No Respect<br />\\nBlascore: Komm Wir malen eine Sonne<br />\\nSkavenjah: Hey Little Rich Girl<br />\\nRollings: Gone With The Smell<br />\\nHepcat: Nigel<br />\\nNo Doubt: Sunday Morning<br />\\nSkaos: Living In Bavaria<br />\\nWeaker Youth Ensemble: Wake Up (To Yourself)<br />\\nCatch 22: Hard To Impress<br />\\nThe Butlers: Miles Away<br />\\nEdje Ska: Problemen In Minnen Hof<br />\\nSka-P: Welcome To Hell<br />\\nThe Hotknives: Broken Heart<br />\\nLa Ruda Salska: Radio Ska<br />\\nSka-P: A la mierda<br />\\nSurfits: I Like It<br />\\nSka-P: Cannabis<br />\\nThe Selecter: I Want Justice<br />\\nFishbone: Crazy Bald Heads<br />\\nBuford O&#8217;Sullivan: Decade Revival Song<br />\\nHighball Holiday: Poetry In Motion<br />\\nThe Articles: Starsky<br />\\nThe Allentons: Molly<br />\\nSpider Nick &amp; The Maddogs: Rude Boys Rule <i>live</i><br />\\nLord Steev &amp; The Echos: My Golden Love<br />\\nThe Space Heaters: Felix Culpa<br />\\nThe Lemon Merchants: Osakis Football Rules<br />\\nThe Busters: Keen On Games<br />\\nThe Beat: Ranking Fullstop<br />\\nMadness: Michael Caine<br />\\nDie Tornados: Moviestar<br />\\nBad Manners: Teenager In Love<br />\\nThe Volcanoes: Is Anybody There?<br />\\nMesser Banzani: Peace Is Wonder<br />\\nDance Hall Crashers: He Wants Me Back<br />\\nJudge Dread: Reggae And Ska<br />\\nThe Specials: You&#8217;re Wondering Now</p>\\n<p>Playlist 18.8.2003:</p>\\n<p>&#8211; Karamelo Santo: Down <img class=\"alignnone size-full wp-image-37\" src=\"http://ska.one/new.gif\"/><br />\\n&#8211; Jimmy Cliff: Many Rivers To Cross<br />\\n&#8211; Spy Eye: A Message To You Rudy<br />\\n&#8211; No Sports: Fukkin&#8216; Week<br />\\n&#8211; Catch 22: This One Goes To&#8230;<br />\\n&#8211; beNUTS: Zivi Zivot<br />\\n&#8211; Bluekilla: Guns of Navarone<br />\\n&#8211; The Specials: Ghost Town<br />\\n&#8211; The Busters feat. Farin Urlaub: Liebe macht blind<br />\\n&#8211; Army of Juan: Late Nights Dining<br />\\n&#8211; The Frits: We Fight For You<br />\\n&#8211; Surfits: 4:20<br />\\n&#8211; Eläkeläiset: Humppa<br />\\n&#8211; The Beat: Tears of A Clown<br />\\n&#8211; Laurel Aitken: Sahara<br />\\n&#8211; La Ruda Salska: Porque No La Vida</p>\\n<p>Playlist 11.8.2003:</p>\\n<p>&#8211; Madness: One Step Beyond<br />\\n&#8211; No Sports: Summer<br />\\n&#8211; The Busters: Summer Time<br />\\n&#8211; Dr. Ring-Ding &amp; The Senior Allstars: Dance All Night<br />\\n&#8211; Laurel Aitken &amp; No Sports: Muaß i denn<br />\\n&#8211; Laurel Aitken: Don&#8217;t Turn Your Back<br />\\n&#8211; GLG Twenties: Priceless<br />\\n&#8211; Lionsclub: M*A*S*H*<br />\\n&#8211; Angry Planet: Robbin&#8216; Hood<br />\\n&#8211; Die Tornados: Walk Don&#8217;t Run<br />\\n&#8211; Aks Mamma: OJ<br />\\n&#8211; Hepcat: Marcus Garvey<br />\\n&#8211; The Busters: Crazy<br />\\n&#8211; Bluekilla: Hawa Nagila<br />\\n&#8211; Eläkeläiset: No Limit</p>\\n<p>Playlist 4.8.2003:</p>\\n<p>&#8211; The Busters: Friday On My Mind<br />\\n&#8211; Madness: Night Boat To Cairo<br />\\n&#8211; The Trojans: Keep On Running<br />\\n&#8211; Mr. Review: Skampilation<br />\\n&#8211; The Selecter: Missing Words<br />\\n&#8211; Skaliners: Black &#8217;n&#8216; White Dogs<br />\\n&#8211; Monkey Ship: Such As Life<br />\\n&#8211; Court Jester&#8217;s Crew: Südstadt Reggae<br />\\n&#8211; El Bosso &amp; die Ping Pongs: Immer nur Ska!<br />\\n&#8211; Lionsclub: Pussycat <img class=\"alignnone size-full wp-image-37\" src=\"http://ska.one/new.gif\"/><br />\\n&#8211; Eläkeläiset: Kung Fu Fighting<br />\\n&#8211; Desmond Dekker: 007<br />\\n&#8211; Karamelo Santo <i>live</i> <img class=\"alignnone size-full wp-image-37\" src=\"http://ska.one/new.gif\"/><br />\\n&#8211; Spicy Roots: Muppets Theme<br />\\n&#8211; Laurel Aitken &amp; The Potato 5: Sally Brown<br />\\n&#8211; Karamelo Santo: Los Guachos <img class=\"alignnone size-full wp-image-37\" src=\"http://ska.one/new.gif\"/><br />\\n&#8211; Mr. Review: Ska Dee Wah</p>\\n<p>Playlist 28.7.2003:</p>\\n<p>&#8211; Piracy: Intro <img class=\"alignnone size-full wp-image-37\" src=\"http://ska.one/new.gif\"/><br />\\n&#8211; Piracy: The Piracy Anthem <img class=\"alignnone size-full wp-image-37\" src=\"http://ska.one/new.gif\"/><br />\\n&#8211; Trojan Horns: Yuppie Song<br />\\n&#8211; The Selecter: Three Minute Hero<br />\\n&#8211; Area 52: Pizza Kills <img class=\"alignnone size-full wp-image-37\" src=\"http://ska.one/new.gif\"/><br />\\n&#8211; Karamelo Santo: El Meyor<br />\\n&#8211; Ballistic Allshorts: Man At C&amp;A<br />\\n&#8211; Madness: Embarrassment<br />\\n&#8211; Eläkeläiset: Pöpi<br />\\n&#8211; The Lodgers: Why<br />\\n&#8211; The Skatalites: Fidel Castro<br />\\n&#8211; Los Skanalos: Bomba 48<br />\\n&#8211; Surfits: I Like It <img class=\"alignnone size-full wp-image-37\" src=\"http://ska.one/new.gif\"/><br />\\n&#8211; Magga Dog: Monkey In The White House<br />\\n&#8211; Spicy Roots: Gangster<br />\\n&#8211; Ska-P: Paramilitar<br />\\n&#8211; The Trespassers: Gonna Get It</p>\\n<p>Playlist 21.7.2003:</p>\\n<p>&#8211; Catch 22: Hard To Impress<br />\\n&#8211; Surfits: Ride Da Tide <img class=\"alignnone size-full wp-image-37\" src=\"http://ska.one/new.gif\"/><br />\\n&#8211; Derrick Morgan: Ruler of The Universe<br />\\n&#8211; Piracy: Tinned Up Sardines <img class=\"alignnone size-full wp-image-37\" src=\"http://ska.one/new.gif\"/><br />\\n&#8211; Ska-P: Welcome To Hell<br />\\n&#8211; The Busters: The Good Go To Heaven<br />\\n&#8211; Madness: It Must Be Love<br />\\n&#8211; Laurel Aitken: Sally Brown<br />\\n&#8211; Piracy: Perfect Girl <img class=\"alignnone size-full wp-image-37\" src=\"http://ska.one/new.gif\"/><br />\\n&#8211; Tokyo Ska Paradise Orchestra: Lupin III<br />\\n&#8211; Lionsclub: Charlie&#8217;s Angels <img class=\"alignnone size-full wp-image-37\" src=\"http://ska.one/new.gif\"/><br />\\n&#8211; Tschiggedab: Tschiggedab<br />\\n&#8211; Edje Ska: Problemen In Minnen Hof<br />\\n&#8211; Piracy: On Stage <img class=\"alignnone size-full wp-image-37\" src=\"http://ska.one/new.gif\"/></p>\\n<p>Playlist 14.7.2003:</p>\\n<p>&#8211; The Specials: Guns of Navarone <i>live</i><br />\\n&#8211; The Busters: Sleep Away The Rainy Days<br />\\n&#8211; Pro Midget Mafia: Pizza Girl<br />\\n&#8211; Special A.K.A.: Nelson Mandela<br />\\n&#8211; Court Jester&#8217;s Crew: Shake A Leg<br />\\n&#8211; Blechreiz: Eggs Over Easy<br />\\n&#8211; The Selecter: Missing Words<br />\\n&#8211; Two Thousand Flushes: Mi Hamster Esta Muerto<br />\\n&#8211; The Tiny Hat Orchestra: Skaface<br />\\n&#8211; Lucky Hiob: Röschtiland<br />\\n&#8211; Spies Like Us: Little Girl From Outer Space<br />\\n&#8211; The Frits: Auferstanden aus Ruinen<br />\\n&#8211; The Busters: Space Patrol Orion<br />\\n&#8211; Surfits: Ska Noir <img class=\"alignnone size-full wp-image-37\" src=\"http://ska.one/new.gif\"/><br />\\n&#8211; The Hotknives: Dave And Mary<br />\\n&#8211; Eläkeläiset: Humppaan Muna Tulessa (Light My Fire)<br />\\n&#8211; Bluekilla: One Minit Ska<br />\\n&#8211; The Selecter: James Bond<br />\\n&#8211; The Butlers: Love &amp; Marriage</p>\\n<p>Playlist 7.7.2003:</p>\\n<p>&#8211; Natural Rhythm: Blue Beat And Ska<br />\\n&#8211; Mark Foggo: Hello<br />\\n&#8211; The Ska Flames: Ska Fever<br />\\n&#8211; Laurel Aitken &amp; The Busters: She Was My Girl<br />\\n&#8211; Tremende: Che Combinazione<br />\\n&#8211; Trojan Horns: I Like Bouncing<br />\\n&#8211; Hammerhai: Einkaufsbummel<br />\\n&#8211; The Busters: No Risk No Fun<br />\\n&#8211; The Frits: Concrete Jungle<br />\\n&#8211; Podwórkowi Chuligani: Ska Ska Ska!<br />\\n&#8211; The Beat: Mirror In The Bathroom<br />\\n&#8211; The Wailers: Simmer Down<br />\\n&#8211; Bad Manners: Skinhead Love Affair<br />\\n&#8211; The Butlers: Magnum P.I.<br />\\n&#8211; Madness: My Girl<br />\\n&#8211; Court Jester&#8217;s Crew: Die!<br />\\n&#8211; The Skatalites: Batman<br />\\n&#8211; Frau Doktor: Rent</p>\\n<p>Playlist 30.6.2003:</p>\\n<p>&#8211; Natural Rhythm: Blue Beat And Ska<br />\\n&#8211; The Riffs: Don&#8217;t Talk To Me<br />\\n&#8211; Area 7: Dawning of A New Era<br />\\n&#8211; Laurel Aitken &amp; Court Jester&#8217;s Crew: Brown-Eyed Girl<br />\\n&#8211; Trojan Horns: Whatta Way To Die<br />\\n&#8211; No Sports: Stay Rude, Stay Rebel<br />\\n&#8211; King 7 &amp; The Soulsonics: Rude Boy Invasion On Your Radio Station<br />\\n&#8211; The Busters: Tribute To The Skatalites<br />\\n&#8211; The Skatalites: Eastern Standard Time<br />\\n&#8211; The Selecter: On My Radio<br />\\n&#8211; Frau Doktor: Für ein ganzes Leben<br />\\n&#8211; Dance Hall Crashers: Java Junkie<br />\\n&#8211; Judge Dread: Ska Fever<br />\\n&#8211; The Specials: Ghost Town<br />\\n&#8211; The Butlers: Where No Man Has Gone Before<br />\\n<!-- End --></p>\\n\\t\\t\\t</div><!-- .entry-content -->\\n\\t<footer class=\"entry-footer\">\\n\\t\\t\\t</footer><!-- .entry-footer -->\\n</article><!-- #post-## -->\\n\\n\\t\\t\\t\\t\\n\\t\\t\\t\\n\\t\\t</main><!-- #main -->\\n\\t</div><!-- #primary -->\\n\\n\\n\\t</div><!-- #content -->\\n\\n\\t<!-- #colophon -->\\n</div><!-- #page -->\\n\\n<script type=\\'text/javascript\\' src=\\'http://ska.one/wp-content/themes/intergalactic/js/intergalactic.js?ver=20140905\\'></script>\\n<script type=\\'text/javascript\\' src=\\'http://ska.one/wp-content/themes/intergalactic/js/skip-link-focus-fix.js?ver=20130115\\'></script>\\n<script type=\\'text/javascript\\' src=\\'http://ska.one/wp-includes/js/wp-embed.min.js?ver=4.9.6\\'></script>\\n\\n</body>\\n</html>\\n'"
      ]
     },
     "execution_count": 30,
     "metadata": {},
     "output_type": "execute_result"
    }
   ],
   "source": [
    " read_url('http://ska.one/playlists/playlists-2003/')"
   ]
  },
  {
   "cell_type": "code",
   "execution_count": 47,
   "metadata": {
    "collapsed": true
   },
   "outputs": [],
   "source": [
    "text = read_url('http://ska.one/playlists/playlists-2003/')"
   ]
  },
  {
   "cell_type": "code",
   "execution_count": 52,
   "metadata": {
    "collapsed": false
   },
   "outputs": [],
   "source": [
    "repl = replace_all(text)\n",
    "inner = extract_raw_playlists(text)"
   ]
  },
  {
   "cell_type": "code",
   "execution_count": 53,
   "metadata": {
    "collapsed": false
   },
   "outputs": [
    {
     "data": {
      "text/plain": [
       "'<!DOCTYPE html>\\n<html lang=\"de-DE\">\\n<head>\\n<meta charset=\"UTF-8\">\\n<meta name=\"viewport\" content=\"width=device-width, initial-scale=1\">\\n<title>Playlists 2003 | File Under Ska</title>\\n<link rel=\"profile\" href=\"http://gmpg.org/xfn/11\">\\n<link rel=\"pingback\" href=\"http://ska.one/xmlrpc.php\">\\n\\n<link rel=\\'dns-prefetch\\' href=\\'//fonts.googleapis.com\\' />\\n<link rel=\\'dns-prefetch\\' href=\\'//s.w.org\\' />\\n<link rel=\"alternate\" type=\"application/rss+xml\" title=\"File Under Ska &raquo; Feed\" href=\"http://ska.one/feed/\" />\\n<link rel=\"alternate\" type=\"application/rss+xml\" title=\"File Under Ska &raquo; Kommentar-Feed\" href=\"http://ska.one/comments/feed/\" />\\n\\t\\t<script type=\"text/javascript\">\\n\\t\\t\\twindow._wpemojiSettings = {\"baseUrl\":\"https:\\\\/\\\\/s.w.org\\\\/images\\\\/core\\\\/emoji\\\\/2.4\\\\/72x72\\\\/\",\"ext\":\".png\",\"svgUrl\":\"https:\\\\/\\\\/s.w.org\\\\/images\\\\/core\\\\/emoji\\\\/2.4\\\\/svg\\\\/\",\"svgExt\":\".svg\",\"source\":{\"concatemoji\":\"http:\\\\/\\\\/ska.one\\\\/wp-includes\\\\/js\\\\/wp-emoji-release.min.js?ver=4.9.6\"}};\\n\\t\\t\\t!function(a,b,c){function d(a,b){var c=String.fromCharCode;l.clearRect(0,0,k.width,k.height),l.fillText(c.apply(this,a),0,0);var d=k.toDataURL();l.clearRect(0,0,k.width,k.height),l.fillText(c.apply(this,b),0,0);var e=k.toDataURL();return d===e}function e(a){var b;if(!l||!l.fillText)return!1;switch(l.textBaseline=\"top\",l.font=\"600 32px Arial\",a){case\"flag\":return!(b=d([55356,56826,55356,56819],[55356,56826,8203,55356,56819]))&&(b=d([55356,57332,56128,56423,56128,56418,56128,56421,56128,56430,56128,56423,56128,56447],[55356,57332,8203,56128,56423,8203,56128,56418,8203,56128,56421,8203,56128,56430,8203,56128,56423,8203,56128,56447]),!b);case\"emoji\":return b=d([55357,56692,8205,9792,65039],[55357,56692,8203,9792,65039]),!b}return!1}function f(a){var c=b.createElement(\"script\");c.src=a,c.defer=c.type=\"text/javascript\",b.getElementsByTagName(\"head\")[0].appendChild(c)}var g,h,i,j,k=b.createElement(\"canvas\"),l=k.getContext&&k.getContext(\"2d\");for(j=Array(\"flag\",\"emoji\"),c.supports={everything:!0,everythingExceptFlag:!0},i=0;i<j.length;i++)c.supports[j[i]]=e(j[i]),c.supports.everything=c.supports.everything&&c.supports[j[i]],\"flag\"!==j[i]&&(c.supports.everythingExceptFlag=c.supports.everythingExceptFlag&&c.supports[j[i]]);c.supports.everythingExceptFlag=c.supports.everythingExceptFlag&&!c.supports.flag,c.DOMReady=!1,c.readyCallback=function(){c.DOMReady=!0},c.supports.everything||(h=function(){c.readyCallback()},b.addEventListener?(b.addEventListener(\"DOMContentLoaded\",h,!1),a.addEventListener(\"load\",h,!1)):(a.attachEvent(\"onload\",h),b.attachEvent(\"onreadystatechange\",function(){\"complete\"===b.readyState&&c.readyCallback()})),g=c.source||{},g.concatemoji?f(g.concatemoji):g.wpemoji&&g.twemoji&&(f(g.twemoji),f(g.wpemoji)))}(window,document,window._wpemojiSettings);\\n\\t\\t</script>\\n\\t\\t<style type=\"text/css\">\\nimg.wp-smiley,\\nimg.emoji {\\n\\tdisplay: inline !important;\\n\\tborder: none !important;\\n\\tbox-shadow: none !important;\\n\\theight: 1em !important;\\n\\twidth: 1em !important;\\n\\tmargin: 0 .07em !important;\\n\\tvertical-align: -0.1em !important;\\n\\tbackground: none !important;\\n\\tpadding: 0 !important;\\n}\\n</style>\\n<link rel=\\'stylesheet\\' id=\\'intergalactic-style-css\\'  href=\\'http://ska.one/wp-content/themes/intergalactic/style.css?ver=4.9.6\\' type=\\'text/css\\' media=\\'all\\' />\\n<link rel=\\'stylesheet\\' id=\\'genericons-css\\'  href=\\'http://ska.one/wp-content/themes/intergalactic/genericons/genericons.css?ver=3.4.1\\' type=\\'text/css\\' media=\\'all\\' />\\n<link rel=\\'stylesheet\\' id=\\'intergalactic-lato-css\\'  href=\\'https://fonts.googleapis.com/css?family=Lato%3A300%2C400%2C700%2C300italic%2C400italic%2C700italic%26subset%3Dlatin%2Clatin-ext&#038;subset=latin%2Clatin-ext\\' type=\\'text/css\\' media=\\'all\\' />\\n<script type=\\'text/javascript\\' src=\\'http://ska.one/wp-includes/js/jquery/jquery.js?ver=1.12.4\\'></script>\\n<script type=\\'text/javascript\\' src=\\'http://ska.one/wp-includes/js/jquery/jquery-migrate.min.js?ver=1.4.1\\'></script>\\n<link rel=\\'https://api.w.org/\\' href=\\'http://ska.one/wp-json/\\' />\\n<link rel=\"EditURI\" type=\"application/rsd+xml\" title=\"RSD\" href=\"http://ska.one/xmlrpc.php?rsd\" />\\n<link rel=\"wlwmanifest\" type=\"application/wlwmanifest+xml\" href=\"http://ska.one/wp-includes/wlwmanifest.xml\" /> \\n<meta name=\"generator\" content=\"WordPress 4.9.6\" />\\n<link rel=\"canonical\" href=\"http://ska.one/playlists/playlists-2003/\" />\\n<link rel=\\'shortlink\\' href=\\'http://ska.one/?p=182\\' />\\n<link rel=\"alternate\" type=\"application/json+oembed\" href=\"http://ska.one/wp-json/oembed/1.0/embed?url=http%3A%2F%2Fska.one%2Fplaylists%2Fplaylists-2003%2F\" />\\n<link rel=\"alternate\" type=\"text/xml+oembed\" href=\"http://ska.one/wp-json/oembed/1.0/embed?url=http%3A%2F%2Fska.one%2Fplaylists%2Fplaylists-2003%2F&#038;format=xml\" />\\n</head>\\n\\n<body class=\"page-template-default page page-id-182 page-child parent-pageid-169 single-page\">\\n<div id=\"page\" class=\"hfeed site\">\\n\\t<a class=\"skip-link screen-reader-text\" href=\"#content\">Zum Inhalt springen</a>\\n\\t<header id=\"masthead\" class=\"site-header\" role=\"banner\">\\n\\t\\t\\t\\t<div class=\"site-branding\">\\n\\t\\t\\t<h1 class=\"site-title\"><a href=\"http://ska.one/\" rel=\"home\">File Under Ska</a></h1>\\n\\t\\t\\t<h2 class=\"site-description\">Wir spielen beides &#8211; Ska und Rocksteady.</h2>\\n\\t\\t</div>\\n\\n\\t\\t<button class=\"menu-toggle x\">\\n\\t\\t\\t<span class=\"lines\"></span>\\n\\t\\t\\t<span class=\"screen-reader-text\">Primäres Menü</span>\\n\\t\\t</button>\\n\\t\\t<div class=\"slide-menu\">\\n\\t\\t\\t<nav id=\"site-navigation\" class=\"main-navigation\" role=\"navigation\">\\n\\t\\t\\t\\t<div class=\"menu\"><ul>\\n<li ><a href=\"http://ska.one/\">Startseite</a></li><li class=\"page_item page-item-38\"><a href=\"http://ska.one/bilder/\">Bilder</a></li>\\n<li class=\"page_item page-item-10\"><a href=\"http://ska.one/kontakt/\">Kontakt</a></li>\\n<li class=\"page_item page-item-14\"><a href=\"http://ska.one/misc/\">Misc</a></li>\\n<li class=\"page_item page-item-169 page_item_has_children current_page_ancestor current_page_parent\"><a href=\"http://ska.one/playlists/\">Playlists</a>\\n<ul class=\\'children\\'>\\n\\t<li class=\"page_item page-item-182 current_page_item\"><a href=\"http://ska.one/playlists/playlists-2003/\">Playlists 2003</a></li>\\n\\t<li class=\"page_item page-item-186\"><a href=\"http://ska.one/playlists/playlists-2004/\">Playlists 2004</a></li>\\n\\t<li class=\"page_item page-item-191\"><a href=\"http://ska.one/playlists/playlists-2005/\">Playlists 2005</a></li>\\n\\t<li class=\"page_item page-item-193\"><a href=\"http://ska.one/playlists/playlists-2006/\">Playlists 2006</a></li>\\n\\t<li class=\"page_item page-item-195\"><a href=\"http://ska.one/playlists/playlists-2007/\">Playlists 2007</a></li>\\n\\t<li class=\"page_item page-item-197\"><a href=\"http://ska.one/playlists/playlists-2008/\">Playlists 2008</a></li>\\n\\t<li class=\"page_item page-item-199\"><a href=\"http://ska.one/playlists/playlists-2009/\">Playlists 2009</a></li>\\n\\t<li class=\"page_item page-item-201\"><a href=\"http://ska.one/playlists/playlists-2010/\">Playlists 2010</a></li>\\n\\t<li class=\"page_item page-item-203\"><a href=\"http://ska.one/playlists/playlists-2011/\">Playlists 2011</a></li>\\n\\t<li class=\"page_item page-item-207\"><a href=\"http://ska.one/playlists/playlists-2012/\">Playlists 2012</a></li>\\n\\t<li class=\"page_item page-item-209\"><a href=\"http://ska.one/playlists/playlists-2013/\">Playlists 2013</a></li>\\n\\t<li class=\"page_item page-item-211\"><a href=\"http://ska.one/playlists/playlists-2014/\">Playlists 2014</a></li>\\n\\t<li class=\"page_item page-item-213\"><a href=\"http://ska.one/playlists/playlists-2015/\">Playlists 2015</a></li>\\n\\t<li class=\"page_item page-item-215\"><a href=\"http://ska.one/playlists/playlists-2016/\">Playlists 2016</a></li>\\n\\t<li class=\"page_item page-item-217\"><a href=\"http://ska.one/playlists/playlists-2016-2/\">Playlists 2016</a></li>\\n\\t<li class=\"page_item page-item-219\"><a href=\"http://ska.one/playlists/playlists-2017/\">Playlists 2017</a></li>\\n</ul>\\n</li>\\n<li class=\"page_item page-item-12\"><a href=\"http://ska.one/skalender/\">Skalender</a></li>\\n<li class=\"page_item page-item-18\"><a href=\"http://ska.one/was-ist-ska/\">Was ist Ska?</a></li>\\n<li class=\"page_item page-item-16\"><a href=\"http://ska.one/start/links/\">Links</a></li>\\n</ul></div>\\n\\t\\t\\t</nav><!-- #site-navigation -->\\n\\n\\t\\t\\t\\n\\t\\t\\t\\n<div id=\"secondary\" class=\"widget-area\" role=\"complementary\">\\n\\t<aside id=\"search-2\" class=\"widget widget_search\"><form role=\"search\" method=\"get\" class=\"search-form\" action=\"http://ska.one/\">\\n\\t\\t\\t\\t<label>\\n\\t\\t\\t\\t\\t<span class=\"screen-reader-text\">Suche nach:</span>\\n\\t\\t\\t\\t\\t<input type=\"search\" class=\"search-field\" placeholder=\"Suche&#160;&hellip;\" value=\"\" name=\"s\" />\\n\\t\\t\\t\\t</label>\\n\\t\\t\\t\\t<input type=\"submit\" class=\"search-submit\" value=\"Suche\" />\\n\\t\\t\\t</form></aside></div><!-- #secondary -->\\n\\n\\t\\t</div>\\n\\t</header><!-- #masthead -->\\n\\t<div id=\"content\" class=\"site-content\">\\n\\n\\t<div id=\"primary\" class=\"content-area\">\\n\\t\\t<main id=\"main\" class=\"site-main\" role=\"main\">\\n\\n\\t\\t\\t\\n\\t\\t\\t\\t\\n<article id=\"post-182\" class=\"post-182 page type-page status-publish hentry\">\\n\\t<header class=\"entry-header\">\\n\\t\\t<h1 class=\"entry-title\">Playlists 2003</h1>\\t</header><!-- .entry-header -->\\n\\n\\t<div class=\"entry-content\">\\n\\t\\t<p><a href=\"http://ska.one/playlists/\">2018</a> <a href=\"http://ska.one/playlists/playlists-2017/\">2017</a> <a href=\"http://ska.one/playlists/playlists-2016/\">2016</a> <a href=\"http://ska.one/playlists/playlists-2015/\">2015</a> <a href=\"http://ska.one/playlists/playlists-2014/\">2014</a> <a href=\"http://ska.one/playlists/playlists-2013/\">2013</a> <a href=\"http://ska.one/playlists/playlists-2012/\">2012</a> <a href=\"http://ska.one/playlists/playlists-2011/\">2011</a> <a href=\"http://ska.one/playlists/playlists-2010/\">2010</a> <a href=\"http://ska.one/playlists/playlists-2009/\">2009</a> <a href=\"http://ska.one/playlists/playlists-2008/\">2008</a> <a href=\"http://ska.one/playlists/playlists-2007/\">2007</a> <a href=\"http://ska.one/playlists/playlists-2006/\">2006</a> <a href=\"http://ska.one/playlists/playlists-2005/\">2005</a> <a href=\"http://ska.one/playlists/playlists-2004/\">2004</a></p>\\n<p><!-- Start --></p>\\n<p>Playlist 29.12.2003:</p>\\n<p>&#8211; Bad Manners: This Is Ska<br />\\n&#8211; Soulfood International: T&#8217;N&#8217;T<br />\\n&#8211; Mad Caddies: Econoline<br />\\n&#8211; Catch 22: Hard To Impress<br />\\n&#8211; Eläkeläiset: Humppa<br />\\n&#8211; Ska-P: Welcome To Hell<br />\\n&#8211; Suggs: No More Alcohol<br />\\n&#8211; The Selecter: Carry Go Bring Home<br />\\n&#8211; Surfits: Straight At The Edge Badge<br />\\n&#8211; Skaos: Better Beware<br />\\n&#8211; General Rudie: So Much<br />\\n&#8211; Two Thousand Flushes: Mi Hamster Esta Muerto<br />\\n&#8211; Tschiggedab: Tschiggedab<br />\\n&#8211; Edje Ska: Problemen In Minnen Hof<br />\\n&#8211; The Robustos: No Strangers Here<br />\\n&#8211; The Specials: You&#8217;re Wondering Now</p>\\n<p>Playlist 22.12.2003:</p>\\n<p>&#8211; The Ethopians: Train To Skaville<br />\\n&#8211; Maroon Town: Pound To The Dollar<br />\\n&#8211; Court Jester&#8217;s Crew: The Mysterious Voyage of Dillfried die Maus<br />\\n&#8211; Yellow Umbrella: Days Are Numbered<br />\\n&#8211; The Riffs: Monday Morning<br />\\n&#8211; The Busters: Friday On My Mind<br />\\n&#8211; Laurel Aitken: Going Back To The Frontline<br />\\n&#8211; Wickeda: Me And Bobby Drinking Coffee<br />\\n&#8211; Piracy: Sudden Heroes<br />\\n&#8211; Toots &amp; The Maytals: (Take Me Home) Country Roads<br />\\n&#8211; Wisecräcker: Mucker<br />\\n&#8211; Tokyo Ska Paradise Orchestra: 5 Days of Tequila<br />\\n&#8211; New York Ska-Jazz Ensemble: Haitian Fight Song</p>\\n<p>Playlist 15.12.2003:</p>\\n<p>&#8211; The Selecter: The Selecter<br />\\n&#8211; Schwarz auf Weiß: Alles wird sich ändern, wenn wir groß sind<br />\\n&#8211; Sublime: Santeria<br />\\n&#8211; Frau Doktor: Träger Sack<br />\\n&#8211; Ska-P: Planeta Eskoria<br />\\n&#8211; Lionsclub: The Persuaders<br />\\n&#8211; Big Lick: 7 Grand<br />\\n&#8211; Skoidats: Granted<br />\\n&#8211; Big D And The Kids Table: In Front Of Me</p>\\n<p>Playlist 8.12.2003:</p>\\n<p>&#8211; <i>Jingle</i><br />\\n&#8211; Skanatra: Come Fly With Me<br />\\n&#8211; The 27 Red: Angry Man<br />\\n&#8211; Rollings: Skanon<br />\\n&#8211; The Juggins: Summer Gigolo<br />\\n&#8211; The Selecter: They Make Me Mad<br />\\n&#8211; Dr. Ring-Ding: Bad Company<br />\\n&#8211; Derrick Morgan: Housewive&#8217;s Choice<br />\\n&#8211; Surfits: Fine City<br />\\n&#8211; The Clash: London Calling<br />\\n&#8211; Court Jester&#8217;s Crew: The Dream<br />\\n&#8211; Tiefenrausch: Astronauten<br />\\n&#8211; Mark Foggo&#8217;s Skasters: My Little Girly<br />\\n&#8211; The Frits: Take Him Again<br />\\n&#8211; Dance Hall Crashers: D.H.C.<br />\\n&#8211; Dr. Woggle &amp; The Radio: I Can&#8217;t Say <img class=\"alignnone size-full wp-image-37\" src=\"http://ska.one/new.gif\"/></p>\\n<p>Playlist 1.12.2003:</p>\\n<p>&#8211; <i>Jingle</i><br />\\n&#8211; Bakesys: Liquidator<br />\\n&#8211; Wisecräcker: Ambition<br />\\n&#8211; Gangster Fun: Dirty Love<br />\\n&#8211; Dub Voyagers: Frau Barbara<br />\\n&#8211; Skalariak: Despïdeme<br />\\n&#8211; Eläkeläiset: Pöpi<br />\\n&#8211; Yellow Umbrella: Big Promises<br />\\n&#8211; Madness: One Better Day<br />\\n&#8211; Skalariak: Vodka Revolution<br />\\n&#8211; Mr. Review: Chasing<br />\\n&#8211; Desmond Dekker: That&#8217;s The Way Life Goes<br />\\n&#8211; Venus Hill: Separate Lives<br />\\n&#8211; Tiefenrausch: Ska Vampir<br />\\n&#8211; Hepcat: All For You<br />\\n&#8211; No Sports: Skamachine<br />\\n&#8211; Lionsclub: Star Wars &#8211; The Throne Room</p>\\n<p>Playlist 24.11.2003:</p>\\n<p>&#8211; The Specials. A Message To You Rudy<br />\\n&#8211; Victor Rice: Drum Thief <img class=\"alignnone size-full wp-image-37\" src=\"http://ska.one/new.gif\"/><br />\\n&#8211; Trojan Horns: King of Lank<br />\\n&#8211; Dr. Woggle &amp; The Radio: Brother <img class=\"alignnone size-full wp-image-37\" src=\"http://ska.one/new.gif\"/><br />\\n&#8211; Judge Dread: Oh She Is A Big Girl Now<br />\\n&#8211; Dub Voyagers: Rastafahndung<br />\\n&#8211; The Busters: Wish You Were Here<br />\\n&#8211; The Selecter: Hearsay<br />\\n&#8211; Eläkeläiset: Humppalaki<br />\\n&#8211; Bluekilla: Billy The Boy<br />\\n&#8211; The Agents: Psycho Mick<br />\\n&#8211; Surfits: Straight At The Edge Badge <img class=\"alignnone size-full wp-image-37\" src=\"http://ska.one/new.gif\"/><br />\\n&#8211; The Skatalites: Hot Cargo<br />\\n&#8211; Hepcat: Miss Congeniality<br />\\n&#8211; Lionsclub: Rocky: Come Fly Now<br />\\n&#8211; Bad Manners: Skaville UK</p>\\n<p>Playlist 17.11.2003:</p>\\n<p>&#8211; Tokyo Ska Paradise Orchestra: Skarada Dub<br />\\n&#8211; Pama International: I Love You Too Much To Ever Stop Lying <img class=\"alignnone size-full wp-image-37\" src=\"http://ska.one/new.gif\"/><br />\\n&#8211; The Juggins: Simon Steward<br />\\n&#8211; Dr. Woggle &amp; The Radio: Rhythm And Soul <img class=\"alignnone size-full wp-image-37\" src=\"http://ska.one/new.gif\"/><br />\\n&#8211; Skaliners: Face It<br />\\n&#8211; United Balls: Pogo in Togo<br />\\n&#8211; Eläkeläiset: Dumkopf<br />\\n&#8211; Surfits: Pissed On <img class=\"alignnone size-full wp-image-37\" src=\"http://ska.one/new.gif\"/><br />\\n&#8211; The Skatalites: Occupation<br />\\n&#8211; The Stingers ATX: Stop Thinkin&#8216; <img class=\"alignnone size-full wp-image-37\" src=\"http://ska.one/new.gif\"/><br />\\n&#8211; Ska-P: Como Me Pongo<br />\\n&#8211; The Stingers ATX: What A Wonderful Dub <img class=\"alignnone size-full wp-image-37\" src=\"http://ska.one/new.gif\"/><br />\\n&#8211; Dr. Woggle &amp; The Radio: Lions And Dogs <img class=\"alignnone size-full wp-image-37\" src=\"http://ska.one/new.gif\"/><br />\\n&#8211; The Butlers: Thunderball<br />\\n&#8211; Norton&#8217;s Imperial Guard: John Tesh</p>\\n<p>Playlist 10.11.2003:</p>\\n<p>&#8211; Madness: One Step Beyond<br />\\n&#8211; Pama International: Truly Madly Deeply <img class=\"alignnone size-full wp-image-37\" src=\"http://ska.one/new.gif\"/><br />\\n&#8211; The Juggins: Ska Against Racism<br />\\n&#8211; Surfits: 16 Balls <img class=\"alignnone size-full wp-image-37\" src=\"http://ska.one/new.gif\"/><br />\\n&#8211; Amphetameanies: Last Night<br />\\n&#8211; Geier Sturzflug: Besuchen Sie Europa<br />\\n&#8211; Pama International: Earthquake <img class=\"alignnone size-full wp-image-37\" src=\"http://ska.one/new.gif\"/><br />\\n&#8211; Surfits: Hurry Up <img class=\"alignnone size-full wp-image-37\" src=\"http://ska.one/new.gif\"/><br />\\n&#8211; Laurel Aitken: Night Train To Tokyo<br />\\n&#8211; Victor Rice: Lazy River NYC <img class=\"alignnone size-full wp-image-37\" src=\"http://ska.one/new.gif\"/></p>\\n<p>Playlist 3.11.2003:</p>\\n<p>&#8211; Suspects: Seek And Destroy<br />\\n&#8211; Die Ärzte: Schneller Leben<br />\\n&#8211; Victor Rice: Commit <img class=\"alignnone size-full wp-image-37\" src=\"http://ska.one/new.gif\"/><br />\\n&#8211; Soulfood International: Experimenteller Kram <img class=\"alignnone size-full wp-image-37\" src=\"http://ska.one/new.gif\"/><br />\\n&#8211; La Vela Puerca: Pedro<br />\\n&#8211; Soulfood International: Südstadt Reggae Nr. 2 <img class=\"alignnone size-full wp-image-37\" src=\"http://ska.one/new.gif\"/><br />\\n&#8211; Blechreiz: Sun &amp; Shadow<br />\\n&#8211; Eläkeläiset: Bingholm<br />\\n&#8211; Dub Voyagers: Fernsehbaby<br />\\n&#8211; The Specials: Gangsters<br />\\n&#8211; Mad Caddies: Econoline<br />\\n&#8211; The Busters: Under Cover<br />\\n&#8211; Soulfood International: Stamina Sound <img class=\"alignnone size-full wp-image-37\" src=\"http://ska.one/new.gif\"/><br />\\n&#8211; The Juggins: Tonight<br />\\n&#8211; Alton And Hortense Ellis: Psychedelic Rock<br />\\n&#8211; The Selecter: Missing Words</p>\\n<p>Playlist 27.10.2003:</p>\\n<p>&#8211; Thumper: Crazy Train<br />\\n&#8211; Doreen Shaffer: Turn Your Lamp Down Low<br />\\n&#8211; Crazy Baldhead: Don&#8217;t Turn Your Back<br />\\n&#8211; Victor Rice: Fique <img class=\"alignnone size-full wp-image-37\" src=\"http://ska.one/new.gif\"/><br />\\n&#8211; The Busters: Fun Makers<br />\\n&#8211; Victor Rice: Neighbors <img class=\"alignnone size-full wp-image-37\" src=\"http://ska.one/new.gif\"/><br />\\n&#8211; Polemic: Baba Ryba<br />\\n&#8211; Hepcat: Earthquake And Fire<br />\\n&#8211; Madness: Time For Tea<br />\\n&#8211; Frau Doktor: Das Selbe<br />\\n&#8211; Bad Manners: Bonanza Ska<br />\\n&#8211; The Selecter: Mother Knows Best<br />\\n&#8211; Gay City Rollers: Havana Beach Hotel<br />\\n&#8211; Laurel Aitken with Court Jester&#8217;s Crew: Cockroach<br />\\n&#8211; The Butlers: Sock It To &#8218;em J.B.<br />\\n&#8211; Ngobo Ngobo: All Over Now<br />\\n&#8211; Judge Dread: Nine And A Bit Skank</p>\\n<p>Playlist 20.10.2003 (zu Gast: die <a href=\"http://www.dubvoyagers.de\" target=\"_blank\" rel=\"noopener\">Dub Voyagers</a>):</p>\\n<p>&#8211; The Specials: Friday Night, Saturday Morning<br />\\n&#8211; Planet Smashers: Pee In The Elevator<br />\\n&#8211; Eläkeläiset: Jump<br />\\n&#8211; Dub Voyagers: Rastafahndung<br />\\n&#8211; Les Babacools: Murder<br />\\n&#8211; Seeed: Psychedelic Kingdom<br />\\n&#8211; Dub Voyagers: Fernsehbaby<br />\\n&#8211; Soulfood International: T&#8217;N&#8217;T <img class=\"alignnone size-full wp-image-37\" src=\"http://ska.one/new.gif\"/><br />\\n&#8211; Victor Rice: The Whip <img class=\"alignnone size-full wp-image-37\" src=\"http://ska.one/new.gif\"/><br />\\n&#8211; Dub Voyagers: Fett<br />\\n&#8211; Spacemonkeyz vs. Gorillaz: M1A1</p>\\n<p>Playlist 13.10.2003:</p>\\n<p>&#8211; Ngobo Ngobo: Hi There Hello<br />\\n&#8211; Ngobo Ngobo: Spaceflight 505<br />\\n&#8211; The Selecter: The Selecter<br />\\n&#8211; Ska-P: Planeta Eskoria<br />\\n&#8211; Gangster Fun: Dirty Love<br />\\n&#8211; Madness: Believe Me<br />\\n&#8211; Blechreiz: Der Altbundeskanzler<br />\\n&#8211; The Hotknives: Dace &amp; Mary<br />\\n&#8211; No Respect: Human Scum<br />\\n&#8211; Laurel Aitken: Peggy Sue<br />\\n&#8211; Eastern Standard Time: Perhaps Perhaps Perhaps<br />\\n&#8211; The Busters: Sharp Dressed Girl<br />\\n&#8211; The Amazing Crowns: Do The Dog<br />\\n&#8211; Derrick Morgan: Teach My Baby<br />\\n&#8211; The Toasters: B27<br />\\n&#8211; Dance Hall Crashers: Blind Leading The Blind<br />\\n&#8211; No Sports: Five<br />\\n&#8211; Spy Eye: These Boots Were Made For Stomping<br />\\n&#8211; Stubborn Allstars: Open Season</p>\\n<p>Playlist 6.10.2003:</p>\\n<p>&#8211; Piracy: Intro<br />\\n&#8211; Piracy: The Piracy Anthem<br />\\n&#8211; Madness: Baggy Trousers<br />\\n&#8211; Bluekilla: She Came<br />\\n&#8211; Blondie: Screaming Skin<br />\\n&#8211; The 27 Red: Leavin&#8216;<br />\\n&#8211; The Selecter: My Perfect World<br />\\n&#8211; Maki Nomiya: Luna Cruise<br />\\n&#8211; Skaos: After Midnight<br />\\n&#8211; Skaliners: Change The World<br />\\n&#8211; The Specials: Too Much Too Young<br />\\n&#8211; Lax Alex Con Trax: Smalltown Boy<br />\\n&#8211; The Skatalites: Two For One<br />\\n&#8211; El Bosso &amp; die Ping Pongs: Wo ist diese Stadt<br />\\n&#8211; Kingpins: Beat Girl (Main Title)<br />\\n&#8211; The Allsorts: What More Can I Do<br />\\n&#8211; No Sports: Radio</p>\\n<p>Playlist 29.9.2003:</p>\\n<p>&#8211; Wisecräcker feat. Denise M&#8217;Baye: Time To Show<br />\\n&#8211; Sublime: Santeria<br />\\n&#8211; Dr. Ring-Ding &amp; The Senior Allstars: Long Time Music<br />\\n&#8211; Ngobo Ngobo: No One Cares<br />\\n&#8211; The Selecter: Hairspray<br />\\n&#8211; Tokyo Ska Paradise Orchestra: Filmmakers Bleed<br />\\n&#8211; Schwarz auf Weiß: Alles wird sich ändern, wenn wir groß sind<br />\\n&#8211; Hepcat: Bobby &amp; Joe<br />\\n&#8211; Piracy: Postcard<br />\\n&#8211; Judge Dread: The Winkle Man<br />\\n&#8211; Screwed Up: Your Secret<br />\\n&#8211; The Skatalites: Cleopatra<br />\\n&#8211; Skanatra: New York New York<br />\\n&#8211; The Busters: Rude Vibrations</p>\\n<p>Playlist 22.9.2003:</p>\\n<p>&#8211; The Selecter: James Bond<br />\\n&#8211; Surfits: Ska Noir<br />\\n&#8211; No Doubt: Sunday Morning<br />\\n&#8211; The Busters feat. Farin Urlaub: Liebe macht blind<br />\\n&#8211; Catch 22: American Pie<br />\\n&#8211; Rollings: I Got No Reason<br />\\n&#8211; The Selecter: Missing Words<br />\\n&#8211; The Busters: Summertime<br />\\n&#8211; The Slackers: Have The Time<br />\\n&#8211; Derrick Harriott: Solomon<br />\\n&#8211; The Selecter: Three Minute Hero<br />\\n&#8211; Babylon Circus: Haffi Go<br />\\n&#8211; Critical Mass: I Dunno What To Do<br />\\n&#8211; Surfits: Pissed On<br />\\n&#8211; beNUTS: Zivi Zivot<br />\\n&#8211; Catch 22: San Francisco Payphone<br />\\n&#8211; Eläkeläiset: Humppaan Muna Tulessa (Light My Fire)<br />\\n&#8211; The Selecter: On My Radio</p>\\n<p>Playlist 15.9.2003:</p>\\n<p>&#8211; Bad Manners: This Is Ska<br />\\n&#8211; The Busters: Dead Or Alive<br />\\n&#8211; Hepcat: Dollar Dance<br />\\n&#8211; Trojan Horns: I Like Bouncing<br />\\n&#8211; Court Jester&#8217;s Crew: We Let The Good Times Roll<br />\\n&#8211; Eläkeläiset: Kids In America<br />\\n&#8211; No Sports: How Do You Do<br />\\n&#8211; Planet Smashers: Skate Or Die<br />\\n&#8211; Tokyo Ska Paradise Orchestra: Skarada Dub<br />\\n&#8211; The Specials: Rat Race<br />\\n&#8211; The Busters: Sleep Away The Rainy Days<br />\\n&#8211; Greenhouse: Wake Me Up Before You Gogo<br />\\n&#8211; The Skatalites: Simmer Down<br />\\n&#8211; Maroon Town: Nostalgia<br />\\n&#8211; The Selecter: Out On The Street</p>\\n<p>Playlist 8.9.2003:</p>\\n<p>&#8211; Madness: One Step Beyond<br />\\n&#8211; Mad Caddies: Shut The Door<br />\\n&#8211; The Robustos: My Heart &amp; Soul<br />\\n&#8211; The Busters: Enjoy Yourself<br />\\n&#8211; Save Ferris: Come On Eileen<br />\\n&#8211; The Skatalites: Scandal Ska<br />\\n&#8211; Eläkeläiset: Friday I&#8217;m In Love<br />\\n&#8211; El Bosso &amp; die Ping-Pongs: Shame &amp; Scandal<br />\\n&#8211; Planet Smashers: No Self Control<br />\\n&#8211; The 88&#8217;s: She Fell In Love With James Bond<br />\\n&#8211; Dzieci Kapitana Klossa: Spopka Roza<br />\\n&#8211; Dr. Woggle &amp; The Radio: 10 9 8 7 6<br />\\n&#8211; Less Than Jake: Johnny Quest Thinks We&#8217;re Sell-Outs<br />\\n&#8211; La Vela Puerca: A Su Bola<br />\\n&#8211; Mad Caddies: Road Rash<br />\\n&#8211; The Toasters: ?</p>\\n<p>Playlist 1.9.2003:</p>\\n<p>&#8211; Swingtones: Primaries<br />\\n&#8211; Hepcat: Hooligans<br />\\n&#8211; Messer Banzani: Peace Is Wonder<br />\\n&#8211; Skankan: Brzozowa<br />\\n&#8211; Big Lick: 7 Grand<br />\\n&#8211; The Selecter: James Bond<br />\\n&#8211; The Skatalites: Man In The Street<br />\\n&#8211; Surfits: Ride Da Tide<br />\\n&#8211; Skarface: Too Old<br />\\n&#8211; Screwed Up: Who&#8217;s That Girl<br />\\n&#8211; Mad Butchers: Glutton<br />\\n&#8211; Frau Doktor: Alte Männer<br />\\n&#8211; La Vela Puerca: Alta Magia<br />\\n&#8211; Tremende: Che Combinazione<br />\\n&#8211; The Busters: Go Below<br />\\n&#8211; Lionsclub: Secret Agent Man</p>\\n<p>Playlist 25.8.2003:</p>\\n<p>&#8211; Mark Foggo&#8217;s Skasters: Hello<br />\\n&#8211; Prince Buster &amp; The Skatalites: King of Kings<br />\\n&#8211; The Robustos: I Heard It Through The Grapevine<br />\\n&#8211; The Busters: We Are The Champions<br />\\n&#8211; The Selecter: Murder<br />\\n&#8211; Frau Doktor: Prolskin<br />\\n&#8211; Ska&#8217;d For Life: Rebecca<br />\\n&#8211; Karamelo Santo <i>live</i><br />\\n&#8211; Hepcat: Keep On<br />\\n&#8211; No Sports: Famous<br />\\n&#8211; The Frits: Little Idiots<br />\\n&#8211; The Butlers: Rockford Files<br />\\n&#8211; Desmond Dekker: My World Is Blue<br />\\n&#8211; The Specials: Friday Night Saturday Morning<br />\\n&#8211; Mr. Review: The Feeling Is Alright<br />\\n&#8211; The Scofflaws: Rudy&#8217;s Back</p>\\n<p>Playlist 23.8.2003 (lange <i>File Under Ska</i>-Nacht 22-4 Uhr mit 100 Liedern):</p>\\n<p>Dr. Ring-Ding: Dandimite<br />\\nFrau Doktor: Auf dem Weg in die Stadt<br />\\nDr. Woggle &amp; The Radio: Radio Tune<br />\\nThe Toasters: Don&#8217;t Let The Bastards Grind You Down<br />\\nSpicy Roots: Do You Know<br />\\nJudge Dread: Dr. Kitch<br />\\nIntensified: Turn Me Loose<br />\\nMark Foggo: Girls In Heaven<br />\\nLaurel Aitken: Sally Brown<br />\\nPrince Buster: Madness<br />\\nThe Selecter: On My Radio<br />\\nSka Trek: Woman Catch A Man<br />\\nEl Bosso &amp; die Ping-Pongs: Apocalypse<br />\\nRocker-T: One More<br />\\nBluekilla: Disseparate<br />\\nSpicy Roots: Ska Fever<br />\\nThe Robustos: Don&#8217;t Be Down<br />\\nDoreen Shaffer &amp; Dr. Ring-Ding: Mia Come Back<br />\\nMr. Review: Prejudice<br />\\nTrojan Horns: I Like Bouncing<br />\\nThe Specials: Stupid Marriage<br />\\n?: Abba Abba<br />\\nMaroon Town: Fix The Future<br />\\nThe Allstonians: Mariachi Goes Ska<br />\\nThe Busters: Mickey Mouse In Moscow <i>live</i><br />\\nBluekilla: Ska Is Our Business<br />\\nKaramelo Santo: El Reo<br />\\nThe Skeletones: Four of Them Outta Jail<br />\\nThe Skatalites: Pussycat<br />\\nIntensified: Fat Cat<br />\\nThe Toasters: Secret Agent Man<br />\\nThe Frits: Auferstanden aus Ruinen<br />\\nNo Sports: Rudy<br />\\nMoskovskaya: Ultimatly<br />\\nAl Wilson: The Snake<br />\\nThe Pietasters: Same Old Song<br />\\nSpicy Roots: Optimism<br />\\nFrau Doktor: Tu vuoi l&#8217;amore<br />\\nThe Hotknives: The Same All Over The World<br />\\nYebo: Cleopatra<br />\\nSka Trek: True Confession<br />\\nJimmy Cliff: Carry Go Bring Home<br />\\nThe Allstonians: The Allston Beat<br />\\nFrau Doktor: Ohne Dich<br />\\nNo Respect: Human Scum<br />\\nPiracy: Kleinmachnov<br />\\nDr. Raju: It Doesn&#8217;t Make It Alright<br />\\nThe Skatalites: Ska Ska Ska<br />\\nSpy Eye: These Boots Were Made For Stomping<br />\\nThe Busters: No Respect<br />\\nNatural Rhythm: Blue Beat And Ska<br />\\nSka-P: Tijuana<br />\\nThe Robustos: I Heard It Through The Grapevine<br />\\nMadness: Wings of A Dove<br />\\nBlechreiz: James Bond<br />\\nEläkeläiset: ?<br />\\nThe Slackers: You Must Be Good<br />\\nThe Tiny Hat Orchestra: Skaface<br />\\nTwo Thousand Flushes: Mi Hamster Esta Muerto<br />\\nThe Ska Flames: Ska Fever<br />\\nThe Robustos: Hecho A-Mano<br />\\nThe Selecter: Three Minute Hero<br />\\nNot Bob Marley: No Respect<br />\\nBlascore: Komm Wir malen eine Sonne<br />\\nSkavenjah: Hey Little Rich Girl<br />\\nRollings: Gone With The Smell<br />\\nHepcat: Nigel<br />\\nNo Doubt: Sunday Morning<br />\\nSkaos: Living In Bavaria<br />\\nWeaker Youth Ensemble: Wake Up (To Yourself)<br />\\nCatch 22: Hard To Impress<br />\\nThe Butlers: Miles Away<br />\\nEdje Ska: Problemen In Minnen Hof<br />\\nSka-P: Welcome To Hell<br />\\nThe Hotknives: Broken Heart<br />\\nLa Ruda Salska: Radio Ska<br />\\nSka-P: A la mierda<br />\\nSurfits: I Like It<br />\\nSka-P: Cannabis<br />\\nThe Selecter: I Want Justice<br />\\nFishbone: Crazy Bald Heads<br />\\nBuford O&#8217;Sullivan: Decade Revival Song<br />\\nHighball Holiday: Poetry In Motion<br />\\nThe Articles: Starsky<br />\\nThe Allentons: Molly<br />\\nSpider Nick &amp; The Maddogs: Rude Boys Rule <i>live</i><br />\\nLord Steev &amp; The Echos: My Golden Love<br />\\nThe Space Heaters: Felix Culpa<br />\\nThe Lemon Merchants: Osakis Football Rules<br />\\nThe Busters: Keen On Games<br />\\nThe Beat: Ranking Fullstop<br />\\nMadness: Michael Caine<br />\\nDie Tornados: Moviestar<br />\\nBad Manners: Teenager In Love<br />\\nThe Volcanoes: Is Anybody There?<br />\\nMesser Banzani: Peace Is Wonder<br />\\nDance Hall Crashers: He Wants Me Back<br />\\nJudge Dread: Reggae And Ska<br />\\nThe Specials: You&#8217;re Wondering Now</p>\\n<p>Playlist 18.8.2003:</p>\\n<p>&#8211; Karamelo Santo: Down <img class=\"alignnone size-full wp-image-37\" src=\"http://ska.one/new.gif\"/><br />\\n&#8211; Jimmy Cliff: Many Rivers To Cross<br />\\n&#8211; Spy Eye: A Message To You Rudy<br />\\n&#8211; No Sports: Fukkin&#8216; Week<br />\\n&#8211; Catch 22: This One Goes To&#8230;<br />\\n&#8211; beNUTS: Zivi Zivot<br />\\n&#8211; Bluekilla: Guns of Navarone<br />\\n&#8211; The Specials: Ghost Town<br />\\n&#8211; The Busters feat. Farin Urlaub: Liebe macht blind<br />\\n&#8211; Army of Juan: Late Nights Dining<br />\\n&#8211; The Frits: We Fight For You<br />\\n&#8211; Surfits: 4:20<br />\\n&#8211; Eläkeläiset: Humppa<br />\\n&#8211; The Beat: Tears of A Clown<br />\\n&#8211; Laurel Aitken: Sahara<br />\\n&#8211; La Ruda Salska: Porque No La Vida</p>\\n<p>Playlist 11.8.2003:</p>\\n<p>&#8211; Madness: One Step Beyond<br />\\n&#8211; No Sports: Summer<br />\\n&#8211; The Busters: Summer Time<br />\\n&#8211; Dr. Ring-Ding &amp; The Senior Allstars: Dance All Night<br />\\n&#8211; Laurel Aitken &amp; No Sports: Muaß i denn<br />\\n&#8211; Laurel Aitken: Don&#8217;t Turn Your Back<br />\\n&#8211; GLG Twenties: Priceless<br />\\n&#8211; Lionsclub: M*A*S*H*<br />\\n&#8211; Angry Planet: Robbin&#8216; Hood<br />\\n&#8211; Die Tornados: Walk Don&#8217;t Run<br />\\n&#8211; Aks Mamma: OJ<br />\\n&#8211; Hepcat: Marcus Garvey<br />\\n&#8211; The Busters: Crazy<br />\\n&#8211; Bluekilla: Hawa Nagila<br />\\n&#8211; Eläkeläiset: No Limit</p>\\n<p>Playlist 4.8.2003:</p>\\n<p>&#8211; The Busters: Friday On My Mind<br />\\n&#8211; Madness: Night Boat To Cairo<br />\\n&#8211; The Trojans: Keep On Running<br />\\n&#8211; Mr. Review: Skampilation<br />\\n&#8211; The Selecter: Missing Words<br />\\n&#8211; Skaliners: Black &#8217;n&#8216; White Dogs<br />\\n&#8211; Monkey Ship: Such As Life<br />\\n&#8211; Court Jester&#8217;s Crew: Südstadt Reggae<br />\\n&#8211; El Bosso &amp; die Ping Pongs: Immer nur Ska!<br />\\n&#8211; Lionsclub: Pussycat <img class=\"alignnone size-full wp-image-37\" src=\"http://ska.one/new.gif\"/><br />\\n&#8211; Eläkeläiset: Kung Fu Fighting<br />\\n&#8211; Desmond Dekker: 007<br />\\n&#8211; Karamelo Santo <i>live</i> <img class=\"alignnone size-full wp-image-37\" src=\"http://ska.one/new.gif\"/><br />\\n&#8211; Spicy Roots: Muppets Theme<br />\\n&#8211; Laurel Aitken &amp; The Potato 5: Sally Brown<br />\\n&#8211; Karamelo Santo: Los Guachos <img class=\"alignnone size-full wp-image-37\" src=\"http://ska.one/new.gif\"/><br />\\n&#8211; Mr. Review: Ska Dee Wah</p>\\n<p>Playlist 28.7.2003:</p>\\n<p>&#8211; Piracy: Intro <img class=\"alignnone size-full wp-image-37\" src=\"http://ska.one/new.gif\"/><br />\\n&#8211; Piracy: The Piracy Anthem <img class=\"alignnone size-full wp-image-37\" src=\"http://ska.one/new.gif\"/><br />\\n&#8211; Trojan Horns: Yuppie Song<br />\\n&#8211; The Selecter: Three Minute Hero<br />\\n&#8211; Area 52: Pizza Kills <img class=\"alignnone size-full wp-image-37\" src=\"http://ska.one/new.gif\"/><br />\\n&#8211; Karamelo Santo: El Meyor<br />\\n&#8211; Ballistic Allshorts: Man At C&amp;A<br />\\n&#8211; Madness: Embarrassment<br />\\n&#8211; Eläkeläiset: Pöpi<br />\\n&#8211; The Lodgers: Why<br />\\n&#8211; The Skatalites: Fidel Castro<br />\\n&#8211; Los Skanalos: Bomba 48<br />\\n&#8211; Surfits: I Like It <img class=\"alignnone size-full wp-image-37\" src=\"http://ska.one/new.gif\"/><br />\\n&#8211; Magga Dog: Monkey In The White House<br />\\n&#8211; Spicy Roots: Gangster<br />\\n&#8211; Ska-P: Paramilitar<br />\\n&#8211; The Trespassers: Gonna Get It</p>\\n<p>Playlist 21.7.2003:</p>\\n<p>&#8211; Catch 22: Hard To Impress<br />\\n&#8211; Surfits: Ride Da Tide <img class=\"alignnone size-full wp-image-37\" src=\"http://ska.one/new.gif\"/><br />\\n&#8211; Derrick Morgan: Ruler of The Universe<br />\\n&#8211; Piracy: Tinned Up Sardines <img class=\"alignnone size-full wp-image-37\" src=\"http://ska.one/new.gif\"/><br />\\n&#8211; Ska-P: Welcome To Hell<br />\\n&#8211; The Busters: The Good Go To Heaven<br />\\n&#8211; Madness: It Must Be Love<br />\\n&#8211; Laurel Aitken: Sally Brown<br />\\n&#8211; Piracy: Perfect Girl <img class=\"alignnone size-full wp-image-37\" src=\"http://ska.one/new.gif\"/><br />\\n&#8211; Tokyo Ska Paradise Orchestra: Lupin III<br />\\n&#8211; Lionsclub: Charlie&#8217;s Angels <img class=\"alignnone size-full wp-image-37\" src=\"http://ska.one/new.gif\"/><br />\\n&#8211; Tschiggedab: Tschiggedab<br />\\n&#8211; Edje Ska: Problemen In Minnen Hof<br />\\n&#8211; Piracy: On Stage <img class=\"alignnone size-full wp-image-37\" src=\"http://ska.one/new.gif\"/></p>\\n<p>Playlist 14.7.2003:</p>\\n<p>&#8211; The Specials: Guns of Navarone <i>live</i><br />\\n&#8211; The Busters: Sleep Away The Rainy Days<br />\\n&#8211; Pro Midget Mafia: Pizza Girl<br />\\n&#8211; Special A.K.A.: Nelson Mandela<br />\\n&#8211; Court Jester&#8217;s Crew: Shake A Leg<br />\\n&#8211; Blechreiz: Eggs Over Easy<br />\\n&#8211; The Selecter: Missing Words<br />\\n&#8211; Two Thousand Flushes: Mi Hamster Esta Muerto<br />\\n&#8211; The Tiny Hat Orchestra: Skaface<br />\\n&#8211; Lucky Hiob: Röschtiland<br />\\n&#8211; Spies Like Us: Little Girl From Outer Space<br />\\n&#8211; The Frits: Auferstanden aus Ruinen<br />\\n&#8211; The Busters: Space Patrol Orion<br />\\n&#8211; Surfits: Ska Noir <img class=\"alignnone size-full wp-image-37\" src=\"http://ska.one/new.gif\"/><br />\\n&#8211; The Hotknives: Dave And Mary<br />\\n&#8211; Eläkeläiset: Humppaan Muna Tulessa (Light My Fire)<br />\\n&#8211; Bluekilla: One Minit Ska<br />\\n&#8211; The Selecter: James Bond<br />\\n&#8211; The Butlers: Love &amp; Marriage</p>\\n<p>Playlist 7.7.2003:</p>\\n<p>&#8211; Natural Rhythm: Blue Beat And Ska<br />\\n&#8211; Mark Foggo: Hello<br />\\n&#8211; The Ska Flames: Ska Fever<br />\\n&#8211; Laurel Aitken &amp; The Busters: She Was My Girl<br />\\n&#8211; Tremende: Che Combinazione<br />\\n&#8211; Trojan Horns: I Like Bouncing<br />\\n&#8211; Hammerhai: Einkaufsbummel<br />\\n&#8211; The Busters: No Risk No Fun<br />\\n&#8211; The Frits: Concrete Jungle<br />\\n&#8211; Podwórkowi Chuligani: Ska Ska Ska!<br />\\n&#8211; The Beat: Mirror In The Bathroom<br />\\n&#8211; The Wailers: Simmer Down<br />\\n&#8211; Bad Manners: Skinhead Love Affair<br />\\n&#8211; The Butlers: Magnum P.I.<br />\\n&#8211; Madness: My Girl<br />\\n&#8211; Court Jester&#8217;s Crew: Die!<br />\\n&#8211; The Skatalites: Batman<br />\\n&#8211; Frau Doktor: Rent</p>\\n<p>Playlist 30.6.2003:</p>\\n<p>&#8211; Natural Rhythm: Blue Beat And Ska<br />\\n&#8211; The Riffs: Don&#8217;t Talk To Me<br />\\n&#8211; Area 7: Dawning of A New Era<br />\\n&#8211; Laurel Aitken &amp; Court Jester&#8217;s Crew: Brown-Eyed Girl<br />\\n&#8211; Trojan Horns: Whatta Way To Die<br />\\n&#8211; No Sports: Stay Rude, Stay Rebel<br />\\n&#8211; King 7 &amp; The Soulsonics: Rude Boy Invasion On Your Radio Station<br />\\n&#8211; The Busters: Tribute To The Skatalites<br />\\n&#8211; The Skatalites: Eastern Standard Time<br />\\n&#8211; The Selecter: On My Radio<br />\\n&#8211; Frau Doktor: Für ein ganzes Leben<br />\\n&#8211; Dance Hall Crashers: Java Junkie<br />\\n&#8211; Judge Dread: Ska Fever<br />\\n&#8211; The Specials: Ghost Town<br />\\n&#8211; The Butlers: Where No Man Has Gone Before<br />\\n<!-- End --></p>\\n\\t\\t\\t</div><!-- .entry-content -->\\n\\t<footer class=\"entry-footer\">\\n\\t\\t\\t</footer><!-- .entry-footer -->\\n</article><!-- #post-## -->\\n\\n\\t\\t\\t\\t\\n\\t\\t\\t\\n\\t\\t</main><!-- #main -->\\n\\t</div><!-- #primary -->\\n\\n\\n\\t</div><!-- #content -->\\n\\n\\t<!-- #colophon -->\\n</div><!-- #page -->\\n\\n<script type=\\'text/javascript\\' src=\\'http://ska.one/wp-content/themes/intergalactic/js/intergalactic.js?ver=20140905\\'></script>\\n<script type=\\'text/javascript\\' src=\\'http://ska.one/wp-content/themes/intergalactic/js/skip-link-focus-fix.js?ver=20130115\\'></script>\\n<script type=\\'text/javascript\\' src=\\'http://ska.one/wp-includes/js/wp-embed.min.js?ver=4.9.6\\'></script>\\n\\n</body>\\n</html>\\n'"
      ]
     },
     "execution_count": 30,
     "metadata": {},
     "output_type": "execute_result"
    }
   ],
   "source": [
    " read_url('http://ska.one/playlists/playlists-2003/')"
   ]
  },
  {
   "cell_type": "code",
   "execution_count": null,
   "metadata": {
    "collapsed": true
   },
   "outputs": [],
   "source": []
  }
 ],
 "metadata": {
  "kernelspec": {
   "display_name": "Python 3",
   "language": "python",
   "name": "python3"
  },
  "language_info": {
   "codemirror_mode": {
    "name": "ipython",
    "version": 3
   },
   "file_extension": ".py",
   "mimetype": "text/x-python",
   "name": "python",
   "nbconvert_exporter": "python",
   "pygments_lexer": "ipython3",
   "version": "3.6.0"
  }
 },
 "nbformat": 4,
 "nbformat_minor": 2
}
