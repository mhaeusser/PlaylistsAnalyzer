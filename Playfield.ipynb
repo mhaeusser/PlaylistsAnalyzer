{
 "cells": [
  {
   "cell_type": "code",
   "execution_count": 2,
   "metadata": {
    "collapsed": true
   },
   "outputs": [],
   "source": [
    "line = '&#8211; Joe Higgs: I&#8217;m The Song That My Enemies Sing<br /> &#8211; Andy &amp; Joey: You&#8217;re Wondering Now<br /> &#8211; Tiefenrausch: Döner <img class=\"alignnone size-full wp-image-37\" src=\"http://ska.one/new.gif\"/><br /> &#8211; King Horror: Loch Ness Monster<br /> &#8211; The Upsetters: Man From MI5<br /> &#8211; Ill At Ease: Red Eyed<br />'\n"
   ]
  },
  {
   "cell_type": "code",
   "execution_count": 3,
   "metadata": {
    "collapsed": false
   },
   "outputs": [
    {
     "data": {
      "text/plain": [
       "'&#8211; Joe Higgs: I&#8217;m The Song That My Enemies Sing<br /> &#8211; Andy &amp; Joey: You&#8217;re Wondering Now<br /> &#8211; Tiefenrausch: Döner <img class=\"alignnone size-full wp-image-37\" src=\"http://ska.one/new.gif\"/><br /> &#8211; King Horror: Loch Ness Monster<br /> &#8211; The Upsetters: Man From MI5<br /> &#8211; Ill At Ease: Red Eyed<br />'"
      ]
     },
     "execution_count": 3,
     "metadata": {},
     "output_type": "execute_result"
    }
   ],
   "source": [
    "line"
   ]
  },
  {
   "cell_type": "code",
   "execution_count": 4,
   "metadata": {
    "collapsed": true
   },
   "outputs": [],
   "source": [
    "rep = line.replace('<br />', '<br/>')"
   ]
  },
  {
   "cell_type": "code",
   "execution_count": 5,
   "metadata": {
    "collapsed": false
   },
   "outputs": [
    {
     "data": {
      "text/plain": [
       "'&#8211; Joe Higgs: I&#8217;m The Song That My Enemies Sing<br/> &#8211; Andy &amp; Joey: You&#8217;re Wondering Now<br/> &#8211; Tiefenrausch: Döner <img class=\"alignnone size-full wp-image-37\" src=\"http://ska.one/new.gif\"/><br/> &#8211; King Horror: Loch Ness Monster<br/> &#8211; The Upsetters: Man From MI5<br/> &#8211; Ill At Ease: Red Eyed<br/>'"
      ]
     },
     "execution_count": 5,
     "metadata": {},
     "output_type": "execute_result"
    }
   ],
   "source": [
    "rep"
   ]
  },
  {
   "cell_type": "code",
   "execution_count": 6,
   "metadata": {
    "collapsed": true
   },
   "outputs": [],
   "source": [
    "def replace_all(text):\n",
    "    text = text.replace('<br />', '<br/>')\n",
    "    text = text.replace('<p>', '')\n",
    "    text = text.replace('</p>', '')\n",
    "    text = text.replace('&amp;', '&')\n",
    "    text = text.replace('&#8211;', '-')\n",
    "    text = text.replace('&#8216;', \"'\")\n",
    "    text = text.replace('&#8217;', \"'\")\n",
    "    text = text.replace(' <img class=\"alignnone size-full wp-image-37\" src=\"http://ska.one/new.gif\"/>', '<new/>')   \n",
    "    text = text.replace(' <a href=\"http://file-under-ska.de/old/ska21/\" target=\"_blank\" rel=\"noopener\"><img src=\"http://ska.one/ska21_16.gif\" alt=\"Track von SKA 21\" border=\"0\"></a>', '<ska21/>')   \n",
    "    return text"
   ]
  },
  {
   "cell_type": "code",
   "execution_count": 7,
   "metadata": {
    "collapsed": true
   },
   "outputs": [],
   "source": [
    "repl = replace_all(rep)"
   ]
  },
  {
   "cell_type": "code",
   "execution_count": 8,
   "metadata": {
    "collapsed": false
   },
   "outputs": [
    {
     "data": {
      "text/plain": [
       "'&#8211; Joe Higgs: I&#8217;m The Song That My Enemies Sing<br/> &#8211; Andy &amp; Joey: You&#8217;re Wondering Now<br/> &#8211; Tiefenrausch: Döner <img class=\"alignnone size-full wp-image-37\" src=\"http://ska.one/new.gif\"/><br/> &#8211; King Horror: Loch Ness Monster<br/> &#8211; The Upsetters: Man From MI5<br/> &#8211; Ill At Ease: Red Eyed<br/>'"
      ]
     },
     "execution_count": 8,
     "metadata": {},
     "output_type": "execute_result"
    }
   ],
   "source": [
    "rep"
   ]
  },
  {
   "cell_type": "code",
   "execution_count": 9,
   "metadata": {
    "collapsed": false
   },
   "outputs": [
    {
     "data": {
      "text/plain": [
       "\"- Joe Higgs: I'm The Song That My Enemies Sing<br/> - Andy & Joey: You're Wondering Now<br/> - Tiefenrausch: Döner<new/><br/> - King Horror: Loch Ness Monster<br/> - The Upsetters: Man From MI5<br/> - Ill At Ease: Red Eyed<br/>\""
      ]
     },
     "execution_count": 9,
     "metadata": {},
     "output_type": "execute_result"
    }
   ],
   "source": [
    "repl"
   ]
  },
  {
   "cell_type": "code",
   "execution_count": 10,
   "metadata": {
    "collapsed": false
   },
   "outputs": [
    {
     "data": {
      "text/plain": [
       "[\"- Joe Higgs: I'm The Song That My Enemies Sing\",\n",
       " \" - Andy & Joey: You're Wondering Now\",\n",
       " ' - Tiefenrausch: Döner<new/>',\n",
       " ' - King Horror: Loch Ness Monster',\n",
       " ' - The Upsetters: Man From MI5',\n",
       " ' - Ill At Ease: Red Eyed',\n",
       " '']"
      ]
     },
     "execution_count": 10,
     "metadata": {},
     "output_type": "execute_result"
    }
   ],
   "source": [
    "repl.split('<br/>')"
   ]
  },
  {
   "cell_type": "code",
   "execution_count": 11,
   "metadata": {
    "collapsed": true
   },
   "outputs": [],
   "source": [
    "from urllib.request import urlopen \n",
    "import re\n",
    "def readurl(url): \n",
    "    return urlopen(url).read().decode()"
   ]
  },
  {
   "cell_type": "code",
   "execution_count": 12,
   "metadata": {
    "collapsed": false
   },
   "outputs": [
    {
     "data": {
      "text/plain": [
       "\"- Joe Higgs: I'm The Song That My Enemies Sing\""
      ]
     },
     "execution_count": 12,
     "metadata": {},
     "output_type": "execute_result"
    }
   ],
   "source": [
    "repl.split('<br/>')[0]"
   ]
  },
  {
   "cell_type": "code",
   "execution_count": 13,
   "metadata": {
    "collapsed": true
   },
   "outputs": [],
   "source": [
    "def parse_song_line(line):\n",
    "    # assumed to start with '- '\n",
    "    line = line[2:]\n",
    "    both = line.split(\": \")\n",
    "    artist = both[0]\n",
    "    title = both[1]\n",
    "    return artist, title\n"
   ]
  },
  {
   "cell_type": "code",
   "execution_count": 14,
   "metadata": {
    "collapsed": true
   },
   "outputs": [],
   "source": [
    "ret = parse_song_line(repl.split('<br/>')[0])"
   ]
  },
  {
   "cell_type": "code",
   "execution_count": 15,
   "metadata": {
    "collapsed": false
   },
   "outputs": [
    {
     "data": {
      "text/plain": [
       "('Joe Higgs', \"I'm The Song That My Enemies Sing\")"
      ]
     },
     "execution_count": 15,
     "metadata": {},
     "output_type": "execute_result"
    }
   ],
   "source": [
    "ret"
   ]
  },
  {
   "cell_type": "code",
   "execution_count": 44,
   "metadata": {
    "collapsed": true
   },
   "outputs": [],
   "source": [
    "def parse_all(block):\n",
    "    all_songs = ['1', '2', '3', False]\n",
    "    counter = 0\n",
    "    while (counter < len(block)):\n",
    "        line = block[counter]\n",
    "        artist = 'artist'\n",
    "        title = 'title'\n",
    "        date = 'date'\n",
    "        is_new = False\n",
    "        if line == '':\n",
    "            # ignore\n",
    "            break\n",
    "        if line.endswith('<ska21/>'):\n",
    "            line = line[0:'<ska21/>'.length]\n",
    "        if line.endswith('<new/>'):\n",
    "            is_new = True\n",
    "            line = line[0:'<new/>'.length]\n",
    "        else:\n",
    "            is_new = False\n",
    "        if line.startswith('Playlist '):\n",
    "            date = line['Playlist '.length:]\n",
    "        elif line.startswith('- '):\n",
    "            artist, title = parse_song_line(line)\n",
    "        else:\n",
    "            # cannot handle line\n",
    "            print ('Cannot handle' + line)\n",
    "        all_songs[counter] = artist, title, date, is_new\n",
    "        counter += 1\n",
    "    return all_songs\n",
    "       "
   ]
  },
  {
   "cell_type": "code",
   "execution_count": 45,
   "metadata": {
    "collapsed": true
   },
   "outputs": [],
   "source": [
    "def parse_url(url):\n",
    "    text = readurl(url)\n",
    "    res = parse_all(text)\n",
    "    return res"
   ]
  },
  {
   "cell_type": "code",
   "execution_count": 46,
   "metadata": {
    "collapsed": true
   },
   "outputs": [],
   "source": [
    "def go():\n",
    "    all = parse_url('http://ska.one/playlists/playlists-2003/')\n",
    "    all.add(parse_url('http://ska.one/playlists/playlists-2004/'))\n",
    "    all.add(parse_url('http://ska.one/playlists/playlists-2005/'))\n",
    "    all.add(parse_url('http://ska.one/playlists/playlists-2006/'))\n",
    "    all.add(parse_url('http://ska.one/playlists/playlists-2007/'))\n",
    "    all.add(parse_url('http://ska.one/playlists/playlists-2008/'))\n",
    "    all.add(parse_url('http://ska.one/playlists/playlists-2009/'))\n",
    "    all.add(parse_url('http://ska.one/playlists/playlists-2010/'))\n",
    "    all.add(parse_url('http://ska.one/playlists/playlists-2011/'))\n",
    "    all.add(parse_url('http://ska.one/playlists/playlists-2012/'))\n",
    "    all.add(parse_url('http://ska.one/playlists/playlists-2013/'))\n",
    "    all.add(parse_url('http://ska.one/playlists/playlists-2014/'))\n",
    "    all.add(parse_url('http://ska.one/playlists/playlists-2015/'))\n",
    "    all.add(parse_url('http://ska.one/playlists/playlists-2016/'))\n",
    "    all.add(parse_url('http://ska.one/playlists/playlists-2017/'))\n",
    "    all.add(parse_url('http://ska.one/playlists/playlists/'))\n",
    "    print(all)"
   ]
  },
  {
   "cell_type": "code",
   "execution_count": 47,
   "metadata": {
    "collapsed": false
   },
   "outputs": [
    {
     "name": "stdout",
     "output_type": "stream",
     "text": [
      "Cannot handle<\n",
      "Cannot handle!\n",
      "Cannot handleD\n",
      "Cannot handleO\n",
      "Cannot handleC\n"
     ]
    },
    {
     "ename": "IndexError",
     "evalue": "list assignment index out of range",
     "output_type": "error",
     "traceback": [
      "\u001b[0;31m---------------------------------------------------------------------------\u001b[0m",
      "\u001b[0;31mIndexError\u001b[0m                                Traceback (most recent call last)",
      "\u001b[0;32m<ipython-input-47-a9a4136c37c0>\u001b[0m in \u001b[0;36m<module>\u001b[0;34m()\u001b[0m\n\u001b[0;32m----> 1\u001b[0;31m \u001b[0mparse_url\u001b[0m\u001b[1;33m(\u001b[0m\u001b[1;34m'http://ska.one/playlists/playlists-2003/'\u001b[0m\u001b[1;33m)\u001b[0m\u001b[1;33m\u001b[0m\u001b[0m\n\u001b[0m",
      "\u001b[0;32m<ipython-input-45-49b2f7060fba>\u001b[0m in \u001b[0;36mparse_url\u001b[0;34m(url)\u001b[0m\n\u001b[1;32m      1\u001b[0m \u001b[1;32mdef\u001b[0m \u001b[0mparse_url\u001b[0m\u001b[1;33m(\u001b[0m\u001b[0murl\u001b[0m\u001b[1;33m)\u001b[0m\u001b[1;33m:\u001b[0m\u001b[1;33m\u001b[0m\u001b[0m\n\u001b[1;32m      2\u001b[0m     \u001b[0mtext\u001b[0m \u001b[1;33m=\u001b[0m \u001b[0mreadurl\u001b[0m\u001b[1;33m(\u001b[0m\u001b[0murl\u001b[0m\u001b[1;33m)\u001b[0m\u001b[1;33m\u001b[0m\u001b[0m\n\u001b[0;32m----> 3\u001b[0;31m     \u001b[0mres\u001b[0m \u001b[1;33m=\u001b[0m \u001b[0mparse_all\u001b[0m\u001b[1;33m(\u001b[0m\u001b[0mtext\u001b[0m\u001b[1;33m)\u001b[0m\u001b[1;33m\u001b[0m\u001b[0m\n\u001b[0m\u001b[1;32m      4\u001b[0m     \u001b[1;32mreturn\u001b[0m \u001b[0mres\u001b[0m\u001b[1;33m\u001b[0m\u001b[0m\n",
      "\u001b[0;32m<ipython-input-44-8ef6bb0ee79e>\u001b[0m in \u001b[0;36mparse_all\u001b[0;34m(block)\u001b[0m\n\u001b[1;32m     25\u001b[0m             \u001b[1;31m# cannot handle line\u001b[0m\u001b[1;33m\u001b[0m\u001b[1;33m\u001b[0m\u001b[0m\n\u001b[1;32m     26\u001b[0m             \u001b[0mprint\u001b[0m \u001b[1;33m(\u001b[0m\u001b[1;34m'Cannot handle'\u001b[0m \u001b[1;33m+\u001b[0m \u001b[0mline\u001b[0m\u001b[1;33m)\u001b[0m\u001b[1;33m\u001b[0m\u001b[0m\n\u001b[0;32m---> 27\u001b[0;31m         \u001b[0mall_songs\u001b[0m\u001b[1;33m[\u001b[0m\u001b[0mcounter\u001b[0m\u001b[1;33m]\u001b[0m \u001b[1;33m=\u001b[0m \u001b[0martist\u001b[0m\u001b[1;33m,\u001b[0m \u001b[0mtitle\u001b[0m\u001b[1;33m,\u001b[0m \u001b[0mdate\u001b[0m\u001b[1;33m,\u001b[0m \u001b[0mis_new\u001b[0m\u001b[1;33m\u001b[0m\u001b[0m\n\u001b[0m\u001b[1;32m     28\u001b[0m         \u001b[0mcounter\u001b[0m \u001b[1;33m+=\u001b[0m \u001b[1;36m1\u001b[0m\u001b[1;33m\u001b[0m\u001b[0m\n\u001b[1;32m     29\u001b[0m     \u001b[1;32mreturn\u001b[0m \u001b[0mall_songs\u001b[0m\u001b[1;33m\u001b[0m\u001b[0m\n",
      "\u001b[0;31mIndexError\u001b[0m: list assignment index out of range"
     ]
    }
   ],
   "source": [
    "parse_url('http://ska.one/playlists/playlists-2003/')"
   ]
  },
  {
   "cell_type": "code",
   "execution_count": null,
   "metadata": {
    "collapsed": true
   },
   "outputs": [],
   "source": []
  },
  {
   "cell_type": "code",
   "execution_count": null,
   "metadata": {
    "collapsed": true
   },
   "outputs": [],
   "source": []
  }
 ],
 "metadata": {
  "kernelspec": {
   "display_name": "Python 3",
   "language": "python",
   "name": "python3"
  },
  "language_info": {
   "codemirror_mode": {
    "name": "ipython",
    "version": 3
   },
   "file_extension": ".py",
   "mimetype": "text/x-python",
   "name": "python",
   "nbconvert_exporter": "python",
   "pygments_lexer": "ipython3",
   "version": "3.6.0"
  }
 },
 "nbformat": 4,
 "nbformat_minor": 2
}
