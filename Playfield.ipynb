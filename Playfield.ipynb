{
 "cells": [
  {
   "cell_type": "code",
   "execution_count": 2,
   "metadata": {
    "collapsed": true
   },
   "outputs": [],
   "source": [
    "line = '&#8211; Joe Higgs: I&#8217;m The Song That My Enemies Sing<br /> &#8211; Andy &amp; Joey: You&#8217;re Wondering Now<br /> &#8211; Tiefenrausch: Döner <img class=\"alignnone size-full wp-image-37\" src=\"http://ska.one/new.gif\"/><br /> &#8211; King Horror: Loch Ness Monster<br /> &#8211; The Upsetters: Man From MI5<br /> &#8211; Ill At Ease: Red Eyed<br />'\n"
   ]
  },
  {
   "cell_type": "code",
   "execution_count": 3,
   "metadata": {},
   "outputs": [
    {
     "data": {
      "text/plain": [
       "'&#8211; Joe Higgs: I&#8217;m The Song That My Enemies Sing<br /> &#8211; Andy &amp; Joey: You&#8217;re Wondering Now<br /> &#8211; Tiefenrausch: Döner <img class=\"alignnone size-full wp-image-37\" src=\"http://ska.one/new.gif\"/><br /> &#8211; King Horror: Loch Ness Monster<br /> &#8211; The Upsetters: Man From MI5<br /> &#8211; Ill At Ease: Red Eyed<br />'"
      ]
     },
     "execution_count": 3,
     "metadata": {},
     "output_type": "execute_result"
    }
   ],
   "source": [
    "line"
   ]
  },
  {
   "cell_type": "code",
   "execution_count": 4,
   "metadata": {
    "collapsed": true
   },
   "outputs": [],
   "source": [
    "rep = line.replace('<br />', '<br/>')"
   ]
  },
  {
   "cell_type": "code",
   "execution_count": 5,
   "metadata": {},
   "outputs": [
    {
     "data": {
      "text/plain": [
       "'&#8211; Joe Higgs: I&#8217;m The Song That My Enemies Sing<br/> &#8211; Andy &amp; Joey: You&#8217;re Wondering Now<br/> &#8211; Tiefenrausch: Döner <img class=\"alignnone size-full wp-image-37\" src=\"http://ska.one/new.gif\"/><br/> &#8211; King Horror: Loch Ness Monster<br/> &#8211; The Upsetters: Man From MI5<br/> &#8211; Ill At Ease: Red Eyed<br/>'"
      ]
     },
     "execution_count": 5,
     "metadata": {},
     "output_type": "execute_result"
    }
   ],
   "source": [
    "rep"
   ]
  },
  {
   "cell_type": "code",
   "execution_count": 26,
   "metadata": {
    "collapsed": true
   },
   "outputs": [],
   "source": [
    "def replace_all(text):\n",
    "    text = text.replace('<br />', '<br/>')\n",
    "    text = text.replace('<p>', '')\n",
    "    text = text.replace('</p>', '')\n",
    "    text = text.replace('&amp;', '&')\n",
    "    text = text.replace('&#8211;', '-')\n",
    "    text = text.replace('&#8216;', \"'\")\n",
    "    text = text.replace('&#8217;', \"'\")\n",
    "    text = text.replace(' <img class=\"alignnone size-full wp-image-37\" src=\"http://ska.one/new.gif\"/>', '<new/>')   \n",
    "    text = text.replace(' <a href=\"http://file-under-ska.de/old/ska21/\" target=\"_blank\" rel=\"noopener\"><img src=\"http://ska.one/ska21_16.gif\" alt=\"Track von SKA 21\" border=\"0\"></a>', '<ska21/>')   \n",
    "    return text"
   ]
  },
  {
   "cell_type": "code",
   "execution_count": 27,
   "metadata": {
    "collapsed": true
   },
   "outputs": [],
   "source": [
    "repl = replace_all(rep)"
   ]
  },
  {
   "cell_type": "code",
   "execution_count": 28,
   "metadata": {},
   "outputs": [
    {
     "data": {
      "text/plain": [
       "'&#8211; Joe Higgs: I&#8217;m The Song That My Enemies Sing<br/> &#8211; Andy &amp; Joey: You&#8217;re Wondering Now<br/> &#8211; Tiefenrausch: Döner <img class=\"alignnone size-full wp-image-37\" src=\"http://ska.one/new.gif\"/><br/> &#8211; King Horror: Loch Ness Monster<br/> &#8211; The Upsetters: Man From MI5<br/> &#8211; Ill At Ease: Red Eyed<br/>'"
      ]
     },
     "execution_count": 28,
     "metadata": {},
     "output_type": "execute_result"
    }
   ],
   "source": [
    "rep"
   ]
  },
  {
   "cell_type": "code",
   "execution_count": 29,
   "metadata": {},
   "outputs": [
    {
     "data": {
      "text/plain": [
       "\"- Joe Higgs: I'm The Song That My Enemies Sing<br/> - Andy & Joey: You're Wondering Now<br/> - Tiefenrausch: Döner<new/><br/> - King Horror: Loch Ness Monster<br/> - The Upsetters: Man From MI5<br/> - Ill At Ease: Red Eyed<br/>\""
      ]
     },
     "execution_count": 29,
     "metadata": {},
     "output_type": "execute_result"
    }
   ],
   "source": [
    "repl"
   ]
  },
  {
   "cell_type": "code",
   "execution_count": 30,
   "metadata": {},
   "outputs": [
    {
     "data": {
      "text/plain": [
       "[\"- Joe Higgs: I'm The Song That My Enemies Sing\",\n",
       " \" - Andy & Joey: You're Wondering Now\",\n",
       " ' - Tiefenrausch: Döner<new/>',\n",
       " ' - King Horror: Loch Ness Monster',\n",
       " ' - The Upsetters: Man From MI5',\n",
       " ' - Ill At Ease: Red Eyed',\n",
       " '']"
      ]
     },
     "execution_count": 30,
     "metadata": {},
     "output_type": "execute_result"
    }
   ],
   "source": [
    "repl.split('<br/>')"
   ]
  },
  {
   "cell_type": "code",
   "execution_count": 31,
   "metadata": {
    "collapsed": true
   },
   "outputs": [],
   "source": [
    "from urllib.request import urlopen \n",
    "import re\n",
    "def readurl(url): \n",
    "    return urlopen(url).read().decode()"
   ]
  },
  {
   "cell_type": "code",
   "execution_count": 32,
   "metadata": {},
   "outputs": [
    {
     "data": {
      "text/plain": [
       "\"- Joe Higgs: I'm The Song That My Enemies Sing\""
      ]
     },
     "execution_count": 32,
     "metadata": {},
     "output_type": "execute_result"
    }
   ],
   "source": [
    "repl.split('<br/>')[0]"
   ]
  },
  {
   "cell_type": "code",
   "execution_count": 33,
   "metadata": {
    "collapsed": true
   },
   "outputs": [],
   "source": [
    "def parse_song_line(line):\n",
    "    # assumed to start with '- '\n",
    "    line = line[2:]\n",
    "    both = line.split(\": \")\n",
    "    artist = both[0]\n",
    "    title = both[1]\n",
    "    return artist, title\n"
   ]
  },
  {
   "cell_type": "code",
   "execution_count": 34,
   "metadata": {
    "collapsed": true
   },
   "outputs": [],
   "source": [
    "ret = parse_song_line(repl.split('<br/>')[0])"
   ]
  },
  {
   "cell_type": "code",
   "execution_count": 35,
   "metadata": {},
   "outputs": [
    {
     "data": {
      "text/plain": [
       "('Joe Higgs', \"I'm The Song That My Enemies Sing\")"
      ]
     },
     "execution_count": 35,
     "metadata": {},
     "output_type": "execute_result"
    }
   ],
   "source": [
    "ret"
   ]
  },
  {
   "cell_type": "code",
   "execution_count": null,
   "metadata": {
    "collapsed": true
   },
   "outputs": [],
   "source": [
    "def parse_all(block):\n",
    "    all_songs = make_array(3)\n",
    "    counter = 0\n",
    "    while (counter < block.size):\n",
    "        line = block[counter]\n",
    "        if line = '':\n",
    "            # ignore\n",
    "            break\n",
    "        if line.endswith('<ska21/>'):\n",
    "            line = line[0:'<ska21/>'.length]\n",
    "        if line.endswith('<new/>'):\n",
    "            is_new = true\n",
    "            line = line[0:'<new/>'.length]\n",
    "        else\n",
    "            is_new = false\n",
    "        elif line.startswith('Playlist '):\n",
    "            date = line['Playlist '.length:]\n",
    "        elif line.startswith('- '):\n",
    "            artist, title = parse_song_line(line)\n",
    "        else:\n",
    "            # cannot handle line\n",
    "        all_songs[counter] = artist, title, date\n",
    "        counter++\n",
    "    return all_songs\n",
    "       "
   ]
  }
 ],
 "metadata": {
  "kernelspec": {
   "display_name": "Python 3",
   "language": "python",
   "name": "python3"
  },
  "language_info": {
   "codemirror_mode": {
    "name": "ipython",
    "version": 3
   },
   "file_extension": ".py",
   "mimetype": "text/x-python",
   "name": "python",
   "nbconvert_exporter": "python",
   "pygments_lexer": "ipython3",
   "version": "3.6.3"
  }
 },
 "nbformat": 4,
 "nbformat_minor": 2
}
