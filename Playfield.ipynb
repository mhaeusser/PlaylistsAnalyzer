{
 "cells": [
  {
   "cell_type": "code",
   "execution_count": 2,
   "metadata": {
    "collapsed": true
   },
   "outputs": [],
   "source": [
    "line = '&#8211; Joe Higgs: I&#8217;m The Song That My Enemies Sing<br /> &#8211; Andy &amp; Joey: You&#8217;re Wondering Now<br /> &#8211; Tiefenrausch: Döner <img class=\"alignnone size-full wp-image-37\" src=\"http://ska.one/new.gif\"/><br /> &#8211; King Horror: Loch Ness Monster<br /> &#8211; The Upsetters: Man From MI5<br /> &#8211; Ill At Ease: Red Eyed<br />'\n"
   ]
  },
  {
   "cell_type": "code",
   "execution_count": 3,
   "metadata": {},
   "outputs": [
    {
     "data": {
      "text/plain": [
       "'&#8211; Joe Higgs: I&#8217;m The Song That My Enemies Sing<br /> &#8211; Andy &amp; Joey: You&#8217;re Wondering Now<br /> &#8211; Tiefenrausch: Döner <img class=\"alignnone size-full wp-image-37\" src=\"http://ska.one/new.gif\"/><br /> &#8211; King Horror: Loch Ness Monster<br /> &#8211; The Upsetters: Man From MI5<br /> &#8211; Ill At Ease: Red Eyed<br />'"
      ]
     },
     "execution_count": 3,
     "metadata": {},
     "output_type": "execute_result"
    }
   ],
   "source": [
    "line"
   ]
  },
  {
   "cell_type": "code",
   "execution_count": 4,
   "metadata": {
    "collapsed": true
   },
   "outputs": [],
   "source": [
    "rep = line.replace('<br />', '<br/>')"
   ]
  },
  {
   "cell_type": "code",
   "execution_count": 5,
   "metadata": {},
   "outputs": [
    {
     "data": {
      "text/plain": [
       "'&#8211; Joe Higgs: I&#8217;m The Song That My Enemies Sing<br/> &#8211; Andy &amp; Joey: You&#8217;re Wondering Now<br/> &#8211; Tiefenrausch: Döner <img class=\"alignnone size-full wp-image-37\" src=\"http://ska.one/new.gif\"/><br/> &#8211; King Horror: Loch Ness Monster<br/> &#8211; The Upsetters: Man From MI5<br/> &#8211; Ill At Ease: Red Eyed<br/>'"
      ]
     },
     "execution_count": 5,
     "metadata": {},
     "output_type": "execute_result"
    }
   ],
   "source": [
    "rep"
   ]
  },
  {
   "cell_type": "code",
   "execution_count": 10,
   "metadata": {
    "collapsed": true
   },
   "outputs": [],
   "source": [
    "def replace_all(text):\n",
    "    text = text.replace('<br />', '<br/>')\n",
    "    text = text.replace('&amp;', '&')\n",
    "    text = text.replace('&#8211;', '-')\n",
    "    text = text.replace('&#8216;', \"'\")\n",
    "    text = text.replace('&#8217;', \"'\")\n",
    "    text = text.replace('<img class=\"alignnone size-full wp-image-37\" src=\"http://ska.one/new.gif\"/>', '<new/>')   \n",
    "    return text"
   ]
  },
  {
   "cell_type": "code",
   "execution_count": 11,
   "metadata": {
    "collapsed": true
   },
   "outputs": [],
   "source": [
    "repl = replace_all(rep)"
   ]
  },
  {
   "cell_type": "code",
   "execution_count": 12,
   "metadata": {},
   "outputs": [
    {
     "data": {
      "text/plain": [
       "'&#8211; Joe Higgs: I&#8217;m The Song That My Enemies Sing<br/> &#8211; Andy &amp; Joey: You&#8217;re Wondering Now<br/> &#8211; Tiefenrausch: Döner <img class=\"alignnone size-full wp-image-37\" src=\"http://ska.one/new.gif\"/><br/> &#8211; King Horror: Loch Ness Monster<br/> &#8211; The Upsetters: Man From MI5<br/> &#8211; Ill At Ease: Red Eyed<br/>'"
      ]
     },
     "execution_count": 12,
     "metadata": {},
     "output_type": "execute_result"
    }
   ],
   "source": [
    "rep"
   ]
  },
  {
   "cell_type": "code",
   "execution_count": 13,
   "metadata": {},
   "outputs": [
    {
     "data": {
      "text/plain": [
       "\"- Joe Higgs: I'm The Song That My Enemies Sing<br/> - Andy & Joey: You're Wondering Now<br/> - Tiefenrausch: Döner <new/><br/> - King Horror: Loch Ness Monster<br/> - The Upsetters: Man From MI5<br/> - Ill At Ease: Red Eyed<br/>\""
      ]
     },
     "execution_count": 13,
     "metadata": {},
     "output_type": "execute_result"
    }
   ],
   "source": [
    "repl"
   ]
  },
  {
   "cell_type": "code",
   "execution_count": null,
   "metadata": {
    "collapsed": true
   },
   "outputs": [],
   "source": []
  }
 ],
 "metadata": {
  "kernelspec": {
   "display_name": "Python 3",
   "language": "python",
   "name": "python3"
  },
  "language_info": {
   "codemirror_mode": {
    "name": "ipython",
    "version": 3
   },
   "file_extension": ".py",
   "mimetype": "text/x-python",
   "name": "python",
   "nbconvert_exporter": "python",
   "pygments_lexer": "ipython3",
   "version": "3.6.3"
  }
 },
 "nbformat": 4,
 "nbformat_minor": 2
}
